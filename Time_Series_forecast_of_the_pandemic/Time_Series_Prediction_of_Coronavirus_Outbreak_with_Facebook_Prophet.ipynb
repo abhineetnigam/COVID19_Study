{
 "cells": [
  {
   "cell_type": "markdown",
   "metadata": {
    "colab_type": "text",
    "id": "XujaghyxTtyx"
   },
   "source": [
    "### Predicting Coronavirus Outbreak and Recovering Rate with FB Prophet\n",
    "+ Lots of influencing factors hence prediction can be wrong\n",
    "  - Less Data\n",
    "  - Presence of Effective Treatment and Vaccine can influence prediction\n",
    "\n",
    "#### Installation\n",
    "+ pip install fbprophet\n",
    "\n",
    "#### Data Source\n",
    "+ https://github.com/CSSEGISandData/COVID-19\n",
    "+ https://raw.githubusercontent.com/Jcharis/DataScienceTools/master/Data_analysis_of_Coronavirus_Outbreak_with_Python/coronavirus_data_clean.csv"
   ]
  },
  {
   "cell_type": "code",
   "execution_count": 1,
   "metadata": {},
   "outputs": [],
   "source": [
    "#!pip install cython"
   ]
  },
  {
   "cell_type": "code",
   "execution_count": 2,
   "metadata": {},
   "outputs": [],
   "source": [
    "#!pip install fbprophet httpstan"
   ]
  },
  {
   "cell_type": "code",
   "execution_count": 3,
   "metadata": {},
   "outputs": [],
   "source": [
    "#!pip install pandas"
   ]
  },
  {
   "cell_type": "code",
   "execution_count": 1,
   "metadata": {
    "colab": {},
    "colab_type": "code",
    "id": "onwEdgZFRqeB"
   },
   "outputs": [],
   "source": [
    "confirmed_cases_url = \"https://raw.githubusercontent.com/CSSEGISandData/COVID-19/master/csse_covid_19_data/csse_covid_19_time_series/time_series_covid19_confirmed_global.csv\"\n",
    "recovered_cases_url =\"https://raw.githubusercontent.com/CSSEGISandData/COVID-19/master/csse_covid_19_data/csse_covid_19_time_series/time_series_covid19_recovered_global.csv\"\n",
    "death_cases_url =\"https://raw.githubusercontent.com/CSSEGISandData/COVID-19/master/csse_covid_19_data/csse_covid_19_time_series/time_series_covid19_deaths_global.csv\""
   ]
  },
  {
   "cell_type": "code",
   "execution_count": 2,
   "metadata": {
    "colab": {},
    "colab_type": "code",
    "id": "DUyDoJ1iRWr2"
   },
   "outputs": [],
   "source": [
    "def get_n_melt_data(data_url,case_type):\n",
    "    df = pd.read_csv(data_url)\n",
    "    melted_df = df.melt(id_vars=['Province/State', 'Country/Region', 'Lat', 'Long'])\n",
    "    melted_df.rename(columns={\"variable\":\"Date\",\"value\":case_type},inplace=True)\n",
    "    return melted_df\n",
    "\n",
    "def merge_data(confirm_df,recovered_df,deaths_df):\n",
    "\tnew_df = confirm_df.join(recovered_df['Recovered']).join(deaths_df['Deaths'])\n",
    "\treturn new_df"
   ]
  },
  {
   "cell_type": "code",
   "execution_count": 3,
   "metadata": {
    "colab": {},
    "colab_type": "code",
    "id": "KH6CwMRQUJkw"
   },
   "outputs": [],
   "source": [
    "# Load EDA pkg\n",
    "import pandas as pd"
   ]
  },
  {
   "cell_type": "code",
   "execution_count": 4,
   "metadata": {
    "colab": {},
    "colab_type": "code",
    "id": "S2Fa6ccdRZkQ"
   },
   "outputs": [],
   "source": [
    "confirm_df = get_n_melt_data(confirmed_cases_url,\"Confirmed\")\n",
    "recovered_df = get_n_melt_data(recovered_cases_url,\"Recovered\")\n",
    "deaths_df = get_n_melt_data(death_cases_url,\"Deaths\")"
   ]
  },
  {
   "cell_type": "code",
   "execution_count": 5,
   "metadata": {
    "colab": {
     "base_uri": "https://localhost:8080/",
     "height": 206
    },
    "colab_type": "code",
    "id": "7j2R6VwlUSH4",
    "outputId": "8a4d2731-d71f-44e6-e86f-6915decc5dce"
   },
   "outputs": [
    {
     "data": {
      "text/html": [
       "<div>\n",
       "<style scoped>\n",
       "    .dataframe tbody tr th:only-of-type {\n",
       "        vertical-align: middle;\n",
       "    }\n",
       "\n",
       "    .dataframe tbody tr th {\n",
       "        vertical-align: top;\n",
       "    }\n",
       "\n",
       "    .dataframe thead th {\n",
       "        text-align: right;\n",
       "    }\n",
       "</style>\n",
       "<table border=\"1\" class=\"dataframe\">\n",
       "  <thead>\n",
       "    <tr style=\"text-align: right;\">\n",
       "      <th></th>\n",
       "      <th>Province/State</th>\n",
       "      <th>Country/Region</th>\n",
       "      <th>Lat</th>\n",
       "      <th>Long</th>\n",
       "      <th>Date</th>\n",
       "      <th>Confirmed</th>\n",
       "    </tr>\n",
       "  </thead>\n",
       "  <tbody>\n",
       "    <tr>\n",
       "      <th>179113</th>\n",
       "      <td>NaN</td>\n",
       "      <td>Vietnam</td>\n",
       "      <td>14.058324</td>\n",
       "      <td>108.277199</td>\n",
       "      <td>10/24/21</td>\n",
       "      <td>888940</td>\n",
       "    </tr>\n",
       "    <tr>\n",
       "      <th>179114</th>\n",
       "      <td>NaN</td>\n",
       "      <td>West Bank and Gaza</td>\n",
       "      <td>31.952200</td>\n",
       "      <td>35.233200</td>\n",
       "      <td>10/24/21</td>\n",
       "      <td>450310</td>\n",
       "    </tr>\n",
       "    <tr>\n",
       "      <th>179115</th>\n",
       "      <td>NaN</td>\n",
       "      <td>Yemen</td>\n",
       "      <td>15.552727</td>\n",
       "      <td>48.516388</td>\n",
       "      <td>10/24/21</td>\n",
       "      <td>9678</td>\n",
       "    </tr>\n",
       "    <tr>\n",
       "      <th>179116</th>\n",
       "      <td>NaN</td>\n",
       "      <td>Zambia</td>\n",
       "      <td>-13.133897</td>\n",
       "      <td>27.849332</td>\n",
       "      <td>10/24/21</td>\n",
       "      <td>209634</td>\n",
       "    </tr>\n",
       "    <tr>\n",
       "      <th>179117</th>\n",
       "      <td>NaN</td>\n",
       "      <td>Zimbabwe</td>\n",
       "      <td>-19.015438</td>\n",
       "      <td>29.154857</td>\n",
       "      <td>10/24/21</td>\n",
       "      <td>132651</td>\n",
       "    </tr>\n",
       "  </tbody>\n",
       "</table>\n",
       "</div>"
      ],
      "text/plain": [
       "       Province/State      Country/Region        Lat        Long      Date  \\\n",
       "179113            NaN             Vietnam  14.058324  108.277199  10/24/21   \n",
       "179114            NaN  West Bank and Gaza  31.952200   35.233200  10/24/21   \n",
       "179115            NaN               Yemen  15.552727   48.516388  10/24/21   \n",
       "179116            NaN              Zambia -13.133897   27.849332  10/24/21   \n",
       "179117            NaN            Zimbabwe -19.015438   29.154857  10/24/21   \n",
       "\n",
       "        Confirmed  \n",
       "179113     888940  \n",
       "179114     450310  \n",
       "179115       9678  \n",
       "179116     209634  \n",
       "179117     132651  "
      ]
     },
     "execution_count": 5,
     "metadata": {},
     "output_type": "execute_result"
    }
   ],
   "source": [
    "confirm_df.tail()"
   ]
  },
  {
   "cell_type": "code",
   "execution_count": 6,
   "metadata": {
    "colab": {},
    "colab_type": "code",
    "id": "Ee4O8X4jU7Wv"
   },
   "outputs": [],
   "source": [
    "df = merge_data(confirm_df,recovered_df,deaths_df)"
   ]
  },
  {
   "cell_type": "code",
   "execution_count": 7,
   "metadata": {
    "colab": {
     "base_uri": "https://localhost:8080/",
     "height": 206
    },
    "colab_type": "code",
    "id": "JkREcgvTU7N5",
    "outputId": "bbc10ba0-5a55-4c9b-a5f8-c8cd6162d0fa"
   },
   "outputs": [
    {
     "data": {
      "text/html": [
       "<div>\n",
       "<style scoped>\n",
       "    .dataframe tbody tr th:only-of-type {\n",
       "        vertical-align: middle;\n",
       "    }\n",
       "\n",
       "    .dataframe tbody tr th {\n",
       "        vertical-align: top;\n",
       "    }\n",
       "\n",
       "    .dataframe thead th {\n",
       "        text-align: right;\n",
       "    }\n",
       "</style>\n",
       "<table border=\"1\" class=\"dataframe\">\n",
       "  <thead>\n",
       "    <tr style=\"text-align: right;\">\n",
       "      <th></th>\n",
       "      <th>Province/State</th>\n",
       "      <th>Country/Region</th>\n",
       "      <th>Lat</th>\n",
       "      <th>Long</th>\n",
       "      <th>Date</th>\n",
       "      <th>Confirmed</th>\n",
       "      <th>Recovered</th>\n",
       "      <th>Deaths</th>\n",
       "    </tr>\n",
       "  </thead>\n",
       "  <tbody>\n",
       "    <tr>\n",
       "      <th>0</th>\n",
       "      <td>NaN</td>\n",
       "      <td>Afghanistan</td>\n",
       "      <td>33.93911</td>\n",
       "      <td>67.709953</td>\n",
       "      <td>1/22/20</td>\n",
       "      <td>0</td>\n",
       "      <td>0.0</td>\n",
       "      <td>0</td>\n",
       "    </tr>\n",
       "    <tr>\n",
       "      <th>1</th>\n",
       "      <td>NaN</td>\n",
       "      <td>Albania</td>\n",
       "      <td>41.15330</td>\n",
       "      <td>20.168300</td>\n",
       "      <td>1/22/20</td>\n",
       "      <td>0</td>\n",
       "      <td>0.0</td>\n",
       "      <td>0</td>\n",
       "    </tr>\n",
       "    <tr>\n",
       "      <th>2</th>\n",
       "      <td>NaN</td>\n",
       "      <td>Algeria</td>\n",
       "      <td>28.03390</td>\n",
       "      <td>1.659600</td>\n",
       "      <td>1/22/20</td>\n",
       "      <td>0</td>\n",
       "      <td>0.0</td>\n",
       "      <td>0</td>\n",
       "    </tr>\n",
       "    <tr>\n",
       "      <th>3</th>\n",
       "      <td>NaN</td>\n",
       "      <td>Andorra</td>\n",
       "      <td>42.50630</td>\n",
       "      <td>1.521800</td>\n",
       "      <td>1/22/20</td>\n",
       "      <td>0</td>\n",
       "      <td>0.0</td>\n",
       "      <td>0</td>\n",
       "    </tr>\n",
       "    <tr>\n",
       "      <th>4</th>\n",
       "      <td>NaN</td>\n",
       "      <td>Angola</td>\n",
       "      <td>-11.20270</td>\n",
       "      <td>17.873900</td>\n",
       "      <td>1/22/20</td>\n",
       "      <td>0</td>\n",
       "      <td>0.0</td>\n",
       "      <td>0</td>\n",
       "    </tr>\n",
       "  </tbody>\n",
       "</table>\n",
       "</div>"
      ],
      "text/plain": [
       "  Province/State Country/Region       Lat       Long     Date  Confirmed  \\\n",
       "0            NaN    Afghanistan  33.93911  67.709953  1/22/20          0   \n",
       "1            NaN        Albania  41.15330  20.168300  1/22/20          0   \n",
       "2            NaN        Algeria  28.03390   1.659600  1/22/20          0   \n",
       "3            NaN        Andorra  42.50630   1.521800  1/22/20          0   \n",
       "4            NaN         Angola -11.20270  17.873900  1/22/20          0   \n",
       "\n",
       "   Recovered  Deaths  \n",
       "0        0.0       0  \n",
       "1        0.0       0  \n",
       "2        0.0       0  \n",
       "3        0.0       0  \n",
       "4        0.0       0  "
      ]
     },
     "execution_count": 7,
     "metadata": {},
     "output_type": "execute_result"
    }
   ],
   "source": [
    "df.head()"
   ]
  },
  {
   "cell_type": "code",
   "execution_count": 8,
   "metadata": {
    "colab": {
     "base_uri": "https://localhost:8080/",
     "height": 206
    },
    "colab_type": "code",
    "id": "H-J5E5W7U7FC",
    "outputId": "3179c712-08e1-4b93-82fc-eb35fc407d04"
   },
   "outputs": [
    {
     "data": {
      "text/html": [
       "<div>\n",
       "<style scoped>\n",
       "    .dataframe tbody tr th:only-of-type {\n",
       "        vertical-align: middle;\n",
       "    }\n",
       "\n",
       "    .dataframe tbody tr th {\n",
       "        vertical-align: top;\n",
       "    }\n",
       "\n",
       "    .dataframe thead th {\n",
       "        text-align: right;\n",
       "    }\n",
       "</style>\n",
       "<table border=\"1\" class=\"dataframe\">\n",
       "  <thead>\n",
       "    <tr style=\"text-align: right;\">\n",
       "      <th></th>\n",
       "      <th>Province/State</th>\n",
       "      <th>Country/Region</th>\n",
       "      <th>Lat</th>\n",
       "      <th>Long</th>\n",
       "      <th>Date</th>\n",
       "      <th>Confirmed</th>\n",
       "      <th>Recovered</th>\n",
       "      <th>Deaths</th>\n",
       "    </tr>\n",
       "  </thead>\n",
       "  <tbody>\n",
       "    <tr>\n",
       "      <th>179113</th>\n",
       "      <td>NaN</td>\n",
       "      <td>Vietnam</td>\n",
       "      <td>14.058324</td>\n",
       "      <td>108.277199</td>\n",
       "      <td>10/24/21</td>\n",
       "      <td>888940</td>\n",
       "      <td>NaN</td>\n",
       "      <td>21673</td>\n",
       "    </tr>\n",
       "    <tr>\n",
       "      <th>179114</th>\n",
       "      <td>NaN</td>\n",
       "      <td>West Bank and Gaza</td>\n",
       "      <td>31.952200</td>\n",
       "      <td>35.233200</td>\n",
       "      <td>10/24/21</td>\n",
       "      <td>450310</td>\n",
       "      <td>NaN</td>\n",
       "      <td>4611</td>\n",
       "    </tr>\n",
       "    <tr>\n",
       "      <th>179115</th>\n",
       "      <td>NaN</td>\n",
       "      <td>Yemen</td>\n",
       "      <td>15.552727</td>\n",
       "      <td>48.516388</td>\n",
       "      <td>10/24/21</td>\n",
       "      <td>9678</td>\n",
       "      <td>NaN</td>\n",
       "      <td>1840</td>\n",
       "    </tr>\n",
       "    <tr>\n",
       "      <th>179116</th>\n",
       "      <td>NaN</td>\n",
       "      <td>Zambia</td>\n",
       "      <td>-13.133897</td>\n",
       "      <td>27.849332</td>\n",
       "      <td>10/24/21</td>\n",
       "      <td>209634</td>\n",
       "      <td>NaN</td>\n",
       "      <td>3659</td>\n",
       "    </tr>\n",
       "    <tr>\n",
       "      <th>179117</th>\n",
       "      <td>NaN</td>\n",
       "      <td>Zimbabwe</td>\n",
       "      <td>-19.015438</td>\n",
       "      <td>29.154857</td>\n",
       "      <td>10/24/21</td>\n",
       "      <td>132651</td>\n",
       "      <td>NaN</td>\n",
       "      <td>4669</td>\n",
       "    </tr>\n",
       "  </tbody>\n",
       "</table>\n",
       "</div>"
      ],
      "text/plain": [
       "       Province/State      Country/Region        Lat        Long      Date  \\\n",
       "179113            NaN             Vietnam  14.058324  108.277199  10/24/21   \n",
       "179114            NaN  West Bank and Gaza  31.952200   35.233200  10/24/21   \n",
       "179115            NaN               Yemen  15.552727   48.516388  10/24/21   \n",
       "179116            NaN              Zambia -13.133897   27.849332  10/24/21   \n",
       "179117            NaN            Zimbabwe -19.015438   29.154857  10/24/21   \n",
       "\n",
       "        Confirmed  Recovered  Deaths  \n",
       "179113     888940        NaN   21673  \n",
       "179114     450310        NaN    4611  \n",
       "179115       9678        NaN    1840  \n",
       "179116     209634        NaN    3659  \n",
       "179117     132651        NaN    4669  "
      ]
     },
     "execution_count": 8,
     "metadata": {},
     "output_type": "execute_result"
    }
   ],
   "source": [
    "df.tail()"
   ]
  },
  {
   "cell_type": "code",
   "execution_count": 9,
   "metadata": {
    "colab": {
     "base_uri": "https://localhost:8080/",
     "height": 72
    },
    "colab_type": "code",
    "id": "SxD0Cgo5VTTe",
    "outputId": "e5b0553e-f03a-4931-852c-0be05c410de1"
   },
   "outputs": [
    {
     "data": {
      "text/plain": [
       "Index(['Province/State', 'Country/Region', 'Lat', 'Long', 'Date', 'Confirmed',\n",
       "       'Recovered', 'Deaths'],\n",
       "      dtype='object')"
      ]
     },
     "execution_count": 9,
     "metadata": {},
     "output_type": "execute_result"
    }
   ],
   "source": [
    "df.columns"
   ]
  },
  {
   "cell_type": "code",
   "execution_count": 10,
   "metadata": {
    "colab": {},
    "colab_type": "code",
    "id": "vtlO89QHU62C"
   },
   "outputs": [],
   "source": [
    "df_per_day = df.groupby(\"Date\")[['Confirmed','Recovered', 'Deaths']].sum()"
   ]
  },
  {
   "cell_type": "code",
   "execution_count": 11,
   "metadata": {
    "colab": {
     "base_uri": "https://localhost:8080/",
     "height": 1000
    },
    "colab_type": "code",
    "id": "ehvDHMEcWM4i",
    "outputId": "b0e87196-626f-42cb-8131-120070eabb6c"
   },
   "outputs": [
    {
     "data": {
      "text/html": [
       "<div>\n",
       "<style scoped>\n",
       "    .dataframe tbody tr th:only-of-type {\n",
       "        vertical-align: middle;\n",
       "    }\n",
       "\n",
       "    .dataframe tbody tr th {\n",
       "        vertical-align: top;\n",
       "    }\n",
       "\n",
       "    .dataframe thead th {\n",
       "        text-align: right;\n",
       "    }\n",
       "</style>\n",
       "<table border=\"1\" class=\"dataframe\">\n",
       "  <thead>\n",
       "    <tr style=\"text-align: right;\">\n",
       "      <th></th>\n",
       "      <th>Confirmed</th>\n",
       "      <th>Recovered</th>\n",
       "      <th>Deaths</th>\n",
       "    </tr>\n",
       "    <tr>\n",
       "      <th>Date</th>\n",
       "      <th></th>\n",
       "      <th></th>\n",
       "      <th></th>\n",
       "    </tr>\n",
       "  </thead>\n",
       "  <tbody>\n",
       "    <tr>\n",
       "      <th>1/1/21</th>\n",
       "      <td>84204284</td>\n",
       "      <td>55298166.0</td>\n",
       "      <td>1890582</td>\n",
       "    </tr>\n",
       "    <tr>\n",
       "      <th>1/10/21</th>\n",
       "      <td>90432846</td>\n",
       "      <td>66748238.0</td>\n",
       "      <td>1999098</td>\n",
       "    </tr>\n",
       "    <tr>\n",
       "      <th>1/11/21</th>\n",
       "      <td>91049721</td>\n",
       "      <td>57217361.0</td>\n",
       "      <td>2009141</td>\n",
       "    </tr>\n",
       "    <tr>\n",
       "      <th>1/12/21</th>\n",
       "      <td>91746984</td>\n",
       "      <td>57440194.0</td>\n",
       "      <td>2026272</td>\n",
       "    </tr>\n",
       "    <tr>\n",
       "      <th>1/13/21</th>\n",
       "      <td>92494681</td>\n",
       "      <td>61313024.0</td>\n",
       "      <td>2043163</td>\n",
       "    </tr>\n",
       "    <tr>\n",
       "      <th>...</th>\n",
       "      <td>...</td>\n",
       "      <td>...</td>\n",
       "      <td>...</td>\n",
       "    </tr>\n",
       "    <tr>\n",
       "      <th>9/7/21</th>\n",
       "      <td>222046094</td>\n",
       "      <td>0.0</td>\n",
       "      <td>4587287</td>\n",
       "    </tr>\n",
       "    <tr>\n",
       "      <th>9/8/20</th>\n",
       "      <td>27611503</td>\n",
       "      <td>26082313.0</td>\n",
       "      <td>944373</td>\n",
       "    </tr>\n",
       "    <tr>\n",
       "      <th>9/8/21</th>\n",
       "      <td>222676835</td>\n",
       "      <td>0.0</td>\n",
       "      <td>4597392</td>\n",
       "    </tr>\n",
       "    <tr>\n",
       "      <th>9/9/20</th>\n",
       "      <td>27896907</td>\n",
       "      <td>22366578.0</td>\n",
       "      <td>950550</td>\n",
       "    </tr>\n",
       "    <tr>\n",
       "      <th>9/9/21</th>\n",
       "      <td>223313958</td>\n",
       "      <td>0.0</td>\n",
       "      <td>4608165</td>\n",
       "    </tr>\n",
       "  </tbody>\n",
       "</table>\n",
       "<p>642 rows × 3 columns</p>\n",
       "</div>"
      ],
      "text/plain": [
       "         Confirmed   Recovered   Deaths\n",
       "Date                                   \n",
       "1/1/21    84204284  55298166.0  1890582\n",
       "1/10/21   90432846  66748238.0  1999098\n",
       "1/11/21   91049721  57217361.0  2009141\n",
       "1/12/21   91746984  57440194.0  2026272\n",
       "1/13/21   92494681  61313024.0  2043163\n",
       "...            ...         ...      ...\n",
       "9/7/21   222046094         0.0  4587287\n",
       "9/8/20    27611503  26082313.0   944373\n",
       "9/8/21   222676835         0.0  4597392\n",
       "9/9/20    27896907  22366578.0   950550\n",
       "9/9/21   223313958         0.0  4608165\n",
       "\n",
       "[642 rows x 3 columns]"
      ]
     },
     "execution_count": 11,
     "metadata": {},
     "output_type": "execute_result"
    }
   ],
   "source": [
    "df_per_day"
   ]
  },
  {
   "cell_type": "code",
   "execution_count": 12,
   "metadata": {
    "colab": {
     "base_uri": "https://localhost:8080/",
     "height": 300
    },
    "colab_type": "code",
    "id": "SIYFYyrHWNbA",
    "outputId": "7aeecb9e-7901-4556-d97f-a4bc1d3f8660"
   },
   "outputs": [
    {
     "data": {
      "text/html": [
       "<div>\n",
       "<style scoped>\n",
       "    .dataframe tbody tr th:only-of-type {\n",
       "        vertical-align: middle;\n",
       "    }\n",
       "\n",
       "    .dataframe tbody tr th {\n",
       "        vertical-align: top;\n",
       "    }\n",
       "\n",
       "    .dataframe thead th {\n",
       "        text-align: right;\n",
       "    }\n",
       "</style>\n",
       "<table border=\"1\" class=\"dataframe\">\n",
       "  <thead>\n",
       "    <tr style=\"text-align: right;\">\n",
       "      <th></th>\n",
       "      <th>Confirmed</th>\n",
       "      <th>Recovered</th>\n",
       "      <th>Deaths</th>\n",
       "    </tr>\n",
       "  </thead>\n",
       "  <tbody>\n",
       "    <tr>\n",
       "      <th>count</th>\n",
       "      <td>6.420000e+02</td>\n",
       "      <td>6.420000e+02</td>\n",
       "      <td>6.420000e+02</td>\n",
       "    </tr>\n",
       "    <tr>\n",
       "      <th>mean</th>\n",
       "      <td>8.843543e+07</td>\n",
       "      <td>3.659105e+07</td>\n",
       "      <td>2.005140e+06</td>\n",
       "    </tr>\n",
       "    <tr>\n",
       "      <th>std</th>\n",
       "      <td>8.022115e+07</td>\n",
       "      <td>4.284737e+07</td>\n",
       "      <td>1.609909e+06</td>\n",
       "    </tr>\n",
       "    <tr>\n",
       "      <th>min</th>\n",
       "      <td>5.570000e+02</td>\n",
       "      <td>0.000000e+00</td>\n",
       "      <td>1.700000e+01</td>\n",
       "    </tr>\n",
       "    <tr>\n",
       "      <th>25%</th>\n",
       "      <td>1.051316e+07</td>\n",
       "      <td>7.698150e+04</td>\n",
       "      <td>5.373305e+05</td>\n",
       "    </tr>\n",
       "    <tr>\n",
       "      <th>50%</th>\n",
       "      <td>6.809948e+07</td>\n",
       "      <td>1.763232e+07</td>\n",
       "      <td>1.608475e+06</td>\n",
       "    </tr>\n",
       "    <tr>\n",
       "      <th>75%</th>\n",
       "      <td>1.635348e+08</td>\n",
       "      <td>6.484567e+07</td>\n",
       "      <td>3.501684e+06</td>\n",
       "    </tr>\n",
       "    <tr>\n",
       "      <th>max</th>\n",
       "      <td>2.436714e+08</td>\n",
       "      <td>1.729492e+08</td>\n",
       "      <td>4.948410e+06</td>\n",
       "    </tr>\n",
       "  </tbody>\n",
       "</table>\n",
       "</div>"
      ],
      "text/plain": [
       "          Confirmed     Recovered        Deaths\n",
       "count  6.420000e+02  6.420000e+02  6.420000e+02\n",
       "mean   8.843543e+07  3.659105e+07  2.005140e+06\n",
       "std    8.022115e+07  4.284737e+07  1.609909e+06\n",
       "min    5.570000e+02  0.000000e+00  1.700000e+01\n",
       "25%    1.051316e+07  7.698150e+04  5.373305e+05\n",
       "50%    6.809948e+07  1.763232e+07  1.608475e+06\n",
       "75%    1.635348e+08  6.484567e+07  3.501684e+06\n",
       "max    2.436714e+08  1.729492e+08  4.948410e+06"
      ]
     },
     "execution_count": 12,
     "metadata": {},
     "output_type": "execute_result"
    }
   ],
   "source": [
    "df_per_day.describe()"
   ]
  },
  {
   "cell_type": "code",
   "execution_count": 13,
   "metadata": {
    "colab": {
     "base_uri": "https://localhost:8080/",
     "height": 372
    },
    "colab_type": "code",
    "id": "P9VPbcdWWNRZ",
    "outputId": "0b26a8b4-3e67-443c-cea9-c1d2229db75a"
   },
   "outputs": [
    {
     "data": {
      "text/plain": [
       "<matplotlib.axes._subplots.AxesSubplot at 0x25079dc5280>"
      ]
     },
     "execution_count": 13,
     "metadata": {},
     "output_type": "execute_result"
    },
    {
     "data": {
      "image/png": "[encoded data removed]",
      "text/plain": [
       "<Figure size 1440x360 with 1 Axes>"
      ]
     },
     "metadata": {
      "needs_background": "light"
     },
     "output_type": "display_data"
    }
   ],
   "source": [
    "df_per_day.plot(kind='line',figsize=(20,5))"
   ]
  },
  {
   "cell_type": "code",
   "execution_count": 14,
   "metadata": {},
   "outputs": [
    {
     "name": "stdout",
     "output_type": "stream",
     "text": [
      "Requirement already satisfied: fbprophet in c:\\users\\abhin\\anaconda3\\lib\\site-packages (0.7.1)\n",
      "Requirement already satisfied: setuptools-git>=1.2 in c:\\users\\abhin\\anaconda3\\lib\\site-packages (from fbprophet) (1.2)\n",
      "Requirement already satisfied: Cython>=0.22 in c:\\users\\abhin\\anaconda3\\lib\\site-packages (from fbprophet) (0.29.21)\n",
      "Requirement already satisfied: tqdm>=4.36.1 in c:\\users\\abhin\\anaconda3\\lib\\site-packages (from fbprophet) (4.47.0)\n",
      "Requirement already satisfied: pystan>=2.14 in c:\\users\\abhin\\anaconda3\\lib\\site-packages (from fbprophet) (2.19.1.1)\n",
      "Requirement already satisfied: matplotlib>=2.0.0 in c:\\users\\abhin\\anaconda3\\lib\\site-packages (from fbprophet) (3.2.2)\n",
      "Requirement already satisfied: numpy>=1.15.4 in c:\\users\\abhin\\anaconda3\\lib\\site-packages (from fbprophet) (1.18.5)\n",
      "Requirement already satisfied: cmdstanpy==0.9.5 in c:\\users\\abhin\\anaconda3\\lib\\site-packages (from fbprophet) (0.9.5)\n",
      "Requirement already satisfied: holidays>=0.10.2 in c:\\users\\abhin\\anaconda3\\lib\\site-packages (from fbprophet) (0.11.3.1)\n",
      "Requirement already satisfied: python-dateutil>=2.8.0 in c:\\users\\abhin\\anaconda3\\lib\\site-packages (from fbprophet) (2.8.1)\n",
      "Requirement already satisfied: convertdate>=2.1.2 in c:\\users\\abhin\\anaconda3\\lib\\site-packages (from fbprophet) (2.3.2)\n",
      "Requirement already satisfied: pandas>=1.0.4 in c:\\users\\abhin\\anaconda3\\lib\\site-packages (from fbprophet) (1.0.5)\n",
      "Requirement already satisfied: LunarCalendar>=0.0.9 in c:\\users\\abhin\\anaconda3\\lib\\site-packages (from fbprophet) (0.0.9)\n",
      "Requirement already satisfied: kiwisolver>=1.0.1 in c:\\users\\abhin\\anaconda3\\lib\\site-packages (from matplotlib>=2.0.0->fbprophet) (1.2.0)\n",
      "Requirement already satisfied: pyparsing!=2.0.4,!=2.1.2,!=2.1.6,>=2.0.1 in c:\\users\\abhin\\anaconda3\\lib\\site-packages (from matplotlib>=2.0.0->fbprophet) (2.4.7)\n",
      "Requirement already satisfied: cycler>=0.10 in c:\\users\\abhin\\anaconda3\\lib\\site-packages (from matplotlib>=2.0.0->fbprophet) (0.10.0)\n",
      "Requirement already satisfied: korean-lunar-calendar in c:\\users\\abhin\\anaconda3\\lib\\site-packages (from holidays>=0.10.2->fbprophet) (0.2.1)\n",
      "Requirement already satisfied: hijri-converter in c:\\users\\abhin\\anaconda3\\lib\\site-packages (from holidays>=0.10.2->fbprophet) (2.2.2)\n",
      "Requirement already satisfied: six>=1.5 in c:\\users\\abhin\\anaconda3\\lib\\site-packages (from python-dateutil>=2.8.0->fbprophet) (1.15.0)\n",
      "Requirement already satisfied: pytz>=2014.10 in c:\\users\\abhin\\anaconda3\\lib\\site-packages (from convertdate>=2.1.2->fbprophet) (2020.1)\n",
      "Requirement already satisfied: pymeeus<=1,>=0.3.13 in c:\\users\\abhin\\anaconda3\\lib\\site-packages (from convertdate>=2.1.2->fbprophet) (0.5.10)\n",
      "Requirement already satisfied: ephem>=3.7.5.3 in c:\\users\\abhin\\anaconda3\\lib\\site-packages (from LunarCalendar>=0.0.9->fbprophet) (3.7.7.1)\n"
     ]
    }
   ],
   "source": [
    "!pip install fbprophet"
   ]
  },
  {
   "cell_type": "code",
   "execution_count": 15,
   "metadata": {
    "colab": {},
    "colab_type": "code",
    "id": "nM5W2Mm1YQKr"
   },
   "outputs": [
    {
     "name": "stderr",
     "output_type": "stream",
     "text": [
      "Importing plotly failed. Interactive plots will not work.\n"
     ]
    }
   ],
   "source": [
    "# Time Series Forecasting\n",
    "import fbprophet\n"
   ]
  },
  {
   "cell_type": "code",
   "execution_count": 17,
   "metadata": {
    "colab": {
     "base_uri": "https://localhost:8080/",
     "height": 326
    },
    "colab_type": "code",
    "id": "yDHe_y8NYP4U",
    "outputId": "828d2b4d-7652-43cc-f9c3-7af9d52ed28e"
   },
   "outputs": [
    {
     "data": {
      "text/plain": [
       "['Prophet',\n",
       " '__builtins__',\n",
       " '__cached__',\n",
       " '__doc__',\n",
       " '__file__',\n",
       " '__loader__',\n",
       " '__name__',\n",
       " '__package__',\n",
       " '__path__',\n",
       " '__spec__',\n",
       " '__version__',\n",
       " 'diagnostics',\n",
       " 'forecaster',\n",
       " 'hdays',\n",
       " 'make_holidays',\n",
       " 'models',\n",
       " 'plot']"
      ]
     },
     "execution_count": 17,
     "metadata": {},
     "output_type": "execute_result"
    }
   ],
   "source": [
    "dir(fbprophet)"
   ]
  },
  {
   "cell_type": "code",
   "execution_count": 34,
   "metadata": {
    "colab": {},
    "colab_type": "code",
    "id": "IevP2yjgYgmd"
   },
   "outputs": [],
   "source": [
    "# Model Initialize\n",
    "from fbprophet import Prophet\n",
    "m = Prophet()"
   ]
  },
  {
   "cell_type": "code",
   "execution_count": 35,
   "metadata": {
    "colab": {
     "base_uri": "https://localhost:8080/",
     "height": 35
    },
    "colab_type": "code",
    "id": "9Z47HR6IYo58",
    "outputId": "78ecfe74-94be-44c5-c077-1b60d0ff3f45"
   },
   "outputs": [
    {
     "data": {
      "text/plain": [
       "<fbprophet.forecaster.Prophet at 0x2507e06acd0>"
      ]
     },
     "execution_count": 35,
     "metadata": {},
     "output_type": "execute_result"
    }
   ],
   "source": [
    "m.add_seasonality(name=\"monthly\",period=30.5,fourier_order=5)"
   ]
  },
  {
   "cell_type": "code",
   "execution_count": 36,
   "metadata": {
    "colab": {
     "base_uri": "https://localhost:8080/",
     "height": 1000
    },
    "colab_type": "code",
    "id": "KVdw_bgpY4Fq",
    "outputId": "8c9df0b3-93d3-442d-803c-03b64df54027"
   },
   "outputs": [
    {
     "data": {
      "text/html": [
       "<div>\n",
       "<style scoped>\n",
       "    .dataframe tbody tr th:only-of-type {\n",
       "        vertical-align: middle;\n",
       "    }\n",
       "\n",
       "    .dataframe tbody tr th {\n",
       "        vertical-align: top;\n",
       "    }\n",
       "\n",
       "    .dataframe thead th {\n",
       "        text-align: right;\n",
       "    }\n",
       "</style>\n",
       "<table border=\"1\" class=\"dataframe\">\n",
       "  <thead>\n",
       "    <tr style=\"text-align: right;\">\n",
       "      <th></th>\n",
       "      <th>Confirmed</th>\n",
       "      <th>Recovered</th>\n",
       "      <th>Deaths</th>\n",
       "    </tr>\n",
       "    <tr>\n",
       "      <th>Date</th>\n",
       "      <th></th>\n",
       "      <th></th>\n",
       "      <th></th>\n",
       "    </tr>\n",
       "  </thead>\n",
       "  <tbody>\n",
       "    <tr>\n",
       "      <th>1/1/21</th>\n",
       "      <td>84204284</td>\n",
       "      <td>55298166.0</td>\n",
       "      <td>1890582</td>\n",
       "    </tr>\n",
       "    <tr>\n",
       "      <th>1/10/21</th>\n",
       "      <td>90432846</td>\n",
       "      <td>66748238.0</td>\n",
       "      <td>1999098</td>\n",
       "    </tr>\n",
       "    <tr>\n",
       "      <th>1/11/21</th>\n",
       "      <td>91049721</td>\n",
       "      <td>57217361.0</td>\n",
       "      <td>2009141</td>\n",
       "    </tr>\n",
       "    <tr>\n",
       "      <th>1/12/21</th>\n",
       "      <td>91746984</td>\n",
       "      <td>57440194.0</td>\n",
       "      <td>2026272</td>\n",
       "    </tr>\n",
       "    <tr>\n",
       "      <th>1/13/21</th>\n",
       "      <td>92494681</td>\n",
       "      <td>61313024.0</td>\n",
       "      <td>2043163</td>\n",
       "    </tr>\n",
       "    <tr>\n",
       "      <th>...</th>\n",
       "      <td>...</td>\n",
       "      <td>...</td>\n",
       "      <td>...</td>\n",
       "    </tr>\n",
       "    <tr>\n",
       "      <th>9/7/21</th>\n",
       "      <td>222046094</td>\n",
       "      <td>0.0</td>\n",
       "      <td>4587287</td>\n",
       "    </tr>\n",
       "    <tr>\n",
       "      <th>9/8/20</th>\n",
       "      <td>27611503</td>\n",
       "      <td>26082313.0</td>\n",
       "      <td>944373</td>\n",
       "    </tr>\n",
       "    <tr>\n",
       "      <th>9/8/21</th>\n",
       "      <td>222676835</td>\n",
       "      <td>0.0</td>\n",
       "      <td>4597392</td>\n",
       "    </tr>\n",
       "    <tr>\n",
       "      <th>9/9/20</th>\n",
       "      <td>27896907</td>\n",
       "      <td>22366578.0</td>\n",
       "      <td>950550</td>\n",
       "    </tr>\n",
       "    <tr>\n",
       "      <th>9/9/21</th>\n",
       "      <td>223313958</td>\n",
       "      <td>0.0</td>\n",
       "      <td>4608165</td>\n",
       "    </tr>\n",
       "  </tbody>\n",
       "</table>\n",
       "<p>642 rows × 3 columns</p>\n",
       "</div>"
      ],
      "text/plain": [
       "         Confirmed   Recovered   Deaths\n",
       "Date                                   \n",
       "1/1/21    84204284  55298166.0  1890582\n",
       "1/10/21   90432846  66748238.0  1999098\n",
       "1/11/21   91049721  57217361.0  2009141\n",
       "1/12/21   91746984  57440194.0  2026272\n",
       "1/13/21   92494681  61313024.0  2043163\n",
       "...            ...         ...      ...\n",
       "9/7/21   222046094         0.0  4587287\n",
       "9/8/20    27611503  26082313.0   944373\n",
       "9/8/21   222676835         0.0  4597392\n",
       "9/9/20    27896907  22366578.0   950550\n",
       "9/9/21   223313958         0.0  4608165\n",
       "\n",
       "[642 rows x 3 columns]"
      ]
     },
     "execution_count": 36,
     "metadata": {},
     "output_type": "execute_result"
    }
   ],
   "source": [
    "# Split Dataset\n",
    "df_per_day"
   ]
  },
  {
   "cell_type": "code",
   "execution_count": 37,
   "metadata": {
    "colab": {},
    "colab_type": "code",
    "id": "g_raW6RnY4br"
   },
   "outputs": [],
   "source": [
    "global_cases = df_per_day.reset_index()"
   ]
  },
  {
   "cell_type": "code",
   "execution_count": 38,
   "metadata": {
    "colab": {
     "base_uri": "https://localhost:8080/",
     "height": 206
    },
    "colab_type": "code",
    "id": "nJq5nMruZMWG",
    "outputId": "754dbd21-58f6-40ea-b8b3-46649a5b0460"
   },
   "outputs": [
    {
     "data": {
      "text/html": [
       "<div>\n",
       "<style scoped>\n",
       "    .dataframe tbody tr th:only-of-type {\n",
       "        vertical-align: middle;\n",
       "    }\n",
       "\n",
       "    .dataframe tbody tr th {\n",
       "        vertical-align: top;\n",
       "    }\n",
       "\n",
       "    .dataframe thead th {\n",
       "        text-align: right;\n",
       "    }\n",
       "</style>\n",
       "<table border=\"1\" class=\"dataframe\">\n",
       "  <thead>\n",
       "    <tr style=\"text-align: right;\">\n",
       "      <th></th>\n",
       "      <th>Date</th>\n",
       "      <th>Confirmed</th>\n",
       "      <th>Recovered</th>\n",
       "      <th>Deaths</th>\n",
       "    </tr>\n",
       "  </thead>\n",
       "  <tbody>\n",
       "    <tr>\n",
       "      <th>0</th>\n",
       "      <td>1/1/21</td>\n",
       "      <td>84204284</td>\n",
       "      <td>55298166.0</td>\n",
       "      <td>1890582</td>\n",
       "    </tr>\n",
       "    <tr>\n",
       "      <th>1</th>\n",
       "      <td>1/10/21</td>\n",
       "      <td>90432846</td>\n",
       "      <td>66748238.0</td>\n",
       "      <td>1999098</td>\n",
       "    </tr>\n",
       "    <tr>\n",
       "      <th>2</th>\n",
       "      <td>1/11/21</td>\n",
       "      <td>91049721</td>\n",
       "      <td>57217361.0</td>\n",
       "      <td>2009141</td>\n",
       "    </tr>\n",
       "    <tr>\n",
       "      <th>3</th>\n",
       "      <td>1/12/21</td>\n",
       "      <td>91746984</td>\n",
       "      <td>57440194.0</td>\n",
       "      <td>2026272</td>\n",
       "    </tr>\n",
       "    <tr>\n",
       "      <th>4</th>\n",
       "      <td>1/13/21</td>\n",
       "      <td>92494681</td>\n",
       "      <td>61313024.0</td>\n",
       "      <td>2043163</td>\n",
       "    </tr>\n",
       "  </tbody>\n",
       "</table>\n",
       "</div>"
      ],
      "text/plain": [
       "      Date  Confirmed   Recovered   Deaths\n",
       "0   1/1/21   84204284  55298166.0  1890582\n",
       "1  1/10/21   90432846  66748238.0  1999098\n",
       "2  1/11/21   91049721  57217361.0  2009141\n",
       "3  1/12/21   91746984  57440194.0  2026272\n",
       "4  1/13/21   92494681  61313024.0  2043163"
      ]
     },
     "execution_count": 38,
     "metadata": {},
     "output_type": "execute_result"
    }
   ],
   "source": [
    "global_cases.head()"
   ]
  },
  {
   "cell_type": "code",
   "execution_count": 39,
   "metadata": {
    "colab": {},
    "colab_type": "code",
    "id": "wAYdOsEhZvko"
   },
   "outputs": [],
   "source": [
    "confirmed_cases = global_cases[[\"Date\",\"Confirmed\"]]\n",
    "recovered_cases = global_cases[[\"Date\",\"Recovered\"]]"
   ]
  },
  {
   "cell_type": "code",
   "execution_count": 40,
   "metadata": {
    "colab": {
     "base_uri": "https://localhost:8080/",
     "height": 35
    },
    "colab_type": "code",
    "id": "3ITMJ1zfZ7OP",
    "outputId": "f7d964c1-6894-4663-efea-b56cb0cead7b"
   },
   "outputs": [
    {
     "data": {
      "text/plain": [
       "(642, 2)"
      ]
     },
     "execution_count": 40,
     "metadata": {},
     "output_type": "execute_result"
    }
   ],
   "source": [
    "confirmed_cases.shape"
   ]
  },
  {
   "cell_type": "code",
   "execution_count": 41,
   "metadata": {
    "colab": {
     "base_uri": "https://localhost:8080/",
     "height": 164
    },
    "colab_type": "code",
    "id": "t2VSudLhaMa3",
    "outputId": "0b86721b-26c9-4df6-d6ac-82169a56070d"
   },
   "outputs": [
    {
     "name": "stderr",
     "output_type": "stream",
     "text": [
      "C:\\Users\\abhin\\anaconda3\\lib\\site-packages\\pandas\\core\\frame.py:4125: SettingWithCopyWarning: \n",
      "A value is trying to be set on a copy of a slice from a DataFrame\n",
      "\n",
      "See the caveats in the documentation: https://pandas.pydata.org/pandas-docs/stable/user_guide/indexing.html#returning-a-view-versus-a-copy\n",
      "  return super().rename(\n"
     ]
    }
   ],
   "source": [
    "confirmed_cases.rename(columns={\"Date\":\"ds\",\"Confirmed\":\"y\"},inplace=True)"
   ]
  },
  {
   "cell_type": "code",
   "execution_count": 81,
   "metadata": {
    "colab": {},
    "colab_type": "code",
    "id": "tcb1fVyxZ-LA"
   },
   "outputs": [],
   "source": [
    "train = confirmed_cases[:600]\n",
    "test = confirmed_cases[600:]"
   ]
  },
  {
   "cell_type": "code",
   "execution_count": 82,
   "metadata": {
    "colab": {
     "base_uri": "https://localhost:8080/",
     "height": 206
    },
    "colab_type": "code",
    "id": "kKyYdmdqaHWX",
    "outputId": "bf0aabd2-64ef-4472-d96d-c4f642295d91"
   },
   "outputs": [
    {
     "data": {
      "text/html": [
       "<div>\n",
       "<style scoped>\n",
       "    .dataframe tbody tr th:only-of-type {\n",
       "        vertical-align: middle;\n",
       "    }\n",
       "\n",
       "    .dataframe tbody tr th {\n",
       "        vertical-align: top;\n",
       "    }\n",
       "\n",
       "    .dataframe thead th {\n",
       "        text-align: right;\n",
       "    }\n",
       "</style>\n",
       "<table border=\"1\" class=\"dataframe\">\n",
       "  <thead>\n",
       "    <tr style=\"text-align: right;\">\n",
       "      <th></th>\n",
       "      <th>ds</th>\n",
       "      <th>y</th>\n",
       "    </tr>\n",
       "  </thead>\n",
       "  <tbody>\n",
       "    <tr>\n",
       "      <th>0</th>\n",
       "      <td>1/1/21</td>\n",
       "      <td>84204284</td>\n",
       "    </tr>\n",
       "    <tr>\n",
       "      <th>1</th>\n",
       "      <td>1/10/21</td>\n",
       "      <td>90432846</td>\n",
       "    </tr>\n",
       "    <tr>\n",
       "      <th>2</th>\n",
       "      <td>1/11/21</td>\n",
       "      <td>91049721</td>\n",
       "    </tr>\n",
       "    <tr>\n",
       "      <th>3</th>\n",
       "      <td>1/12/21</td>\n",
       "      <td>91746984</td>\n",
       "    </tr>\n",
       "    <tr>\n",
       "      <th>4</th>\n",
       "      <td>1/13/21</td>\n",
       "      <td>92494681</td>\n",
       "    </tr>\n",
       "  </tbody>\n",
       "</table>\n",
       "</div>"
      ],
      "text/plain": [
       "        ds         y\n",
       "0   1/1/21  84204284\n",
       "1  1/10/21  90432846\n",
       "2  1/11/21  91049721\n",
       "3  1/12/21  91746984\n",
       "4  1/13/21  92494681"
      ]
     },
     "execution_count": 82,
     "metadata": {},
     "output_type": "execute_result"
    }
   ],
   "source": [
    "train.head()"
   ]
  },
  {
   "cell_type": "code",
   "execution_count": 83,
   "metadata": {},
   "outputs": [
    {
     "data": {
      "text/html": [
       "<div>\n",
       "<style scoped>\n",
       "    .dataframe tbody tr th:only-of-type {\n",
       "        vertical-align: middle;\n",
       "    }\n",
       "\n",
       "    .dataframe tbody tr th {\n",
       "        vertical-align: top;\n",
       "    }\n",
       "\n",
       "    .dataframe thead th {\n",
       "        text-align: right;\n",
       "    }\n",
       "</style>\n",
       "<table border=\"1\" class=\"dataframe\">\n",
       "  <thead>\n",
       "    <tr style=\"text-align: right;\">\n",
       "      <th></th>\n",
       "      <th>ds</th>\n",
       "      <th>y</th>\n",
       "    </tr>\n",
       "  </thead>\n",
       "  <tbody>\n",
       "    <tr>\n",
       "      <th>0</th>\n",
       "      <td>1/1/21</td>\n",
       "      <td>84204284</td>\n",
       "    </tr>\n",
       "    <tr>\n",
       "      <th>1</th>\n",
       "      <td>1/10/21</td>\n",
       "      <td>90432846</td>\n",
       "    </tr>\n",
       "    <tr>\n",
       "      <th>2</th>\n",
       "      <td>1/11/21</td>\n",
       "      <td>91049721</td>\n",
       "    </tr>\n",
       "    <tr>\n",
       "      <th>3</th>\n",
       "      <td>1/12/21</td>\n",
       "      <td>91746984</td>\n",
       "    </tr>\n",
       "    <tr>\n",
       "      <th>4</th>\n",
       "      <td>1/13/21</td>\n",
       "      <td>92494681</td>\n",
       "    </tr>\n",
       "    <tr>\n",
       "      <th>...</th>\n",
       "      <td>...</td>\n",
       "      <td>...</td>\n",
       "    </tr>\n",
       "    <tr>\n",
       "      <th>595</th>\n",
       "      <td>9/15/21</td>\n",
       "      <td>226491083</td>\n",
       "    </tr>\n",
       "    <tr>\n",
       "      <th>596</th>\n",
       "      <td>9/16/20</td>\n",
       "      <td>29900930</td>\n",
       "    </tr>\n",
       "    <tr>\n",
       "      <th>597</th>\n",
       "      <td>9/16/21</td>\n",
       "      <td>227065902</td>\n",
       "    </tr>\n",
       "    <tr>\n",
       "      <th>598</th>\n",
       "      <td>9/17/20</td>\n",
       "      <td>30215729</td>\n",
       "    </tr>\n",
       "    <tr>\n",
       "      <th>599</th>\n",
       "      <td>9/17/21</td>\n",
       "      <td>227659305</td>\n",
       "    </tr>\n",
       "  </tbody>\n",
       "</table>\n",
       "<p>600 rows × 2 columns</p>\n",
       "</div>"
      ],
      "text/plain": [
       "          ds          y\n",
       "0     1/1/21   84204284\n",
       "1    1/10/21   90432846\n",
       "2    1/11/21   91049721\n",
       "3    1/12/21   91746984\n",
       "4    1/13/21   92494681\n",
       "..       ...        ...\n",
       "595  9/15/21  226491083\n",
       "596  9/16/20   29900930\n",
       "597  9/16/21  227065902\n",
       "598  9/17/20   30215729\n",
       "599  9/17/21  227659305\n",
       "\n",
       "[600 rows x 2 columns]"
      ]
     },
     "execution_count": 83,
     "metadata": {},
     "output_type": "execute_result"
    }
   ],
   "source": [
    "train"
   ]
  },
  {
   "cell_type": "code",
   "execution_count": 84,
   "metadata": {},
   "outputs": [
    {
     "data": {
      "text/html": [
       "<div>\n",
       "<style scoped>\n",
       "    .dataframe tbody tr th:only-of-type {\n",
       "        vertical-align: middle;\n",
       "    }\n",
       "\n",
       "    .dataframe tbody tr th {\n",
       "        vertical-align: top;\n",
       "    }\n",
       "\n",
       "    .dataframe thead th {\n",
       "        text-align: right;\n",
       "    }\n",
       "</style>\n",
       "<table border=\"1\" class=\"dataframe\">\n",
       "  <thead>\n",
       "    <tr style=\"text-align: right;\">\n",
       "      <th></th>\n",
       "      <th>ds</th>\n",
       "      <th>y</th>\n",
       "    </tr>\n",
       "  </thead>\n",
       "  <tbody>\n",
       "    <tr>\n",
       "      <th>600</th>\n",
       "      <td>9/18/20</td>\n",
       "      <td>30541692</td>\n",
       "    </tr>\n",
       "    <tr>\n",
       "      <th>601</th>\n",
       "      <td>9/18/21</td>\n",
       "      <td>228192357</td>\n",
       "    </tr>\n",
       "    <tr>\n",
       "      <th>602</th>\n",
       "      <td>9/19/20</td>\n",
       "      <td>30834298</td>\n",
       "    </tr>\n",
       "    <tr>\n",
       "      <th>603</th>\n",
       "      <td>9/19/21</td>\n",
       "      <td>228549852</td>\n",
       "    </tr>\n",
       "    <tr>\n",
       "      <th>604</th>\n",
       "      <td>9/2/20</td>\n",
       "      <td>26056416</td>\n",
       "    </tr>\n",
       "  </tbody>\n",
       "</table>\n",
       "</div>"
      ],
      "text/plain": [
       "          ds          y\n",
       "600  9/18/20   30541692\n",
       "601  9/18/21  228192357\n",
       "602  9/19/20   30834298\n",
       "603  9/19/21  228549852\n",
       "604   9/2/20   26056416"
      ]
     },
     "execution_count": 84,
     "metadata": {},
     "output_type": "execute_result"
    }
   ],
   "source": [
    "test.head()"
   ]
  },
  {
   "cell_type": "code",
   "execution_count": 44,
   "metadata": {
    "colab": {
     "base_uri": "https://localhost:8080/",
     "height": 90
    },
    "colab_type": "code",
    "id": "WGuFaEPvaJag",
    "outputId": "6887a794-8660-4a93-c7a6-ce4380f91183"
   },
   "outputs": [
    {
     "name": "stderr",
     "output_type": "stream",
     "text": [
      "INFO:fbprophet:Disabling yearly seasonality. Run prophet with yearly_seasonality=True to override this.\n",
      "INFO:fbprophet:Disabling daily seasonality. Run prophet with daily_seasonality=True to override this.\n"
     ]
    },
    {
     "data": {
      "text/plain": [
       "<fbprophet.forecaster.Prophet at 0x2507e06acd0>"
      ]
     },
     "execution_count": 44,
     "metadata": {},
     "output_type": "execute_result"
    }
   ],
   "source": [
    "# Fit Model\n",
    "m.fit(train)"
   ]
  },
  {
   "cell_type": "code",
   "execution_count": 45,
   "metadata": {
    "colab": {},
    "colab_type": "code",
    "id": "pqNEBdGPaikl"
   },
   "outputs": [],
   "source": [
    "# Future Date\n",
    "future_dates = m.make_future_dataframe(periods=42)"
   ]
  },
  {
   "cell_type": "code",
   "execution_count": 46,
   "metadata": {
    "colab": {
     "base_uri": "https://localhost:8080/",
     "height": 1000
    },
    "colab_type": "code",
    "id": "8Ww0SHr4aqds",
    "outputId": "45cf50a2-bccd-476b-a38b-48d58e56386c"
   },
   "outputs": [
    {
     "data": {
      "text/html": [
       "<div>\n",
       "<style scoped>\n",
       "    .dataframe tbody tr th:only-of-type {\n",
       "        vertical-align: middle;\n",
       "    }\n",
       "\n",
       "    .dataframe tbody tr th {\n",
       "        vertical-align: top;\n",
       "    }\n",
       "\n",
       "    .dataframe thead th {\n",
       "        text-align: right;\n",
       "    }\n",
       "</style>\n",
       "<table border=\"1\" class=\"dataframe\">\n",
       "  <thead>\n",
       "    <tr style=\"text-align: right;\">\n",
       "      <th></th>\n",
       "      <th>ds</th>\n",
       "    </tr>\n",
       "  </thead>\n",
       "  <tbody>\n",
       "    <tr>\n",
       "      <th>0</th>\n",
       "      <td>2020-01-22</td>\n",
       "    </tr>\n",
       "    <tr>\n",
       "      <th>1</th>\n",
       "      <td>2020-01-23</td>\n",
       "    </tr>\n",
       "    <tr>\n",
       "      <th>2</th>\n",
       "      <td>2020-01-24</td>\n",
       "    </tr>\n",
       "    <tr>\n",
       "      <th>3</th>\n",
       "      <td>2020-01-25</td>\n",
       "    </tr>\n",
       "    <tr>\n",
       "      <th>4</th>\n",
       "      <td>2020-01-26</td>\n",
       "    </tr>\n",
       "    <tr>\n",
       "      <th>...</th>\n",
       "      <td>...</td>\n",
       "    </tr>\n",
       "    <tr>\n",
       "      <th>637</th>\n",
       "      <td>2021-12-01</td>\n",
       "    </tr>\n",
       "    <tr>\n",
       "      <th>638</th>\n",
       "      <td>2021-12-02</td>\n",
       "    </tr>\n",
       "    <tr>\n",
       "      <th>639</th>\n",
       "      <td>2021-12-03</td>\n",
       "    </tr>\n",
       "    <tr>\n",
       "      <th>640</th>\n",
       "      <td>2021-12-04</td>\n",
       "    </tr>\n",
       "    <tr>\n",
       "      <th>641</th>\n",
       "      <td>2021-12-05</td>\n",
       "    </tr>\n",
       "  </tbody>\n",
       "</table>\n",
       "<p>642 rows × 1 columns</p>\n",
       "</div>"
      ],
      "text/plain": [
       "            ds\n",
       "0   2020-01-22\n",
       "1   2020-01-23\n",
       "2   2020-01-24\n",
       "3   2020-01-25\n",
       "4   2020-01-26\n",
       "..         ...\n",
       "637 2021-12-01\n",
       "638 2021-12-02\n",
       "639 2021-12-03\n",
       "640 2021-12-04\n",
       "641 2021-12-05\n",
       "\n",
       "[642 rows x 1 columns]"
      ]
     },
     "execution_count": 46,
     "metadata": {},
     "output_type": "execute_result"
    }
   ],
   "source": [
    "future_dates"
   ]
  },
  {
   "cell_type": "code",
   "execution_count": 87,
   "metadata": {},
   "outputs": [
    {
     "data": {
      "text/html": [
       "<div>\n",
       "<style scoped>\n",
       "    .dataframe tbody tr th:only-of-type {\n",
       "        vertical-align: middle;\n",
       "    }\n",
       "\n",
       "    .dataframe tbody tr th {\n",
       "        vertical-align: top;\n",
       "    }\n",
       "\n",
       "    .dataframe thead th {\n",
       "        text-align: right;\n",
       "    }\n",
       "</style>\n",
       "<table border=\"1\" class=\"dataframe\">\n",
       "  <thead>\n",
       "    <tr style=\"text-align: right;\">\n",
       "      <th></th>\n",
       "      <th>ds</th>\n",
       "      <th>y</th>\n",
       "      <th>dates</th>\n",
       "    </tr>\n",
       "  </thead>\n",
       "  <tbody>\n",
       "    <tr>\n",
       "      <th>600</th>\n",
       "      <td>9/18/20</td>\n",
       "      <td>30541692</td>\n",
       "      <td>2020-09-18</td>\n",
       "    </tr>\n",
       "    <tr>\n",
       "      <th>601</th>\n",
       "      <td>9/18/21</td>\n",
       "      <td>228192357</td>\n",
       "      <td>2021-09-18</td>\n",
       "    </tr>\n",
       "    <tr>\n",
       "      <th>602</th>\n",
       "      <td>9/19/20</td>\n",
       "      <td>30834298</td>\n",
       "      <td>2020-09-19</td>\n",
       "    </tr>\n",
       "    <tr>\n",
       "      <th>603</th>\n",
       "      <td>9/19/21</td>\n",
       "      <td>228549852</td>\n",
       "      <td>2021-09-19</td>\n",
       "    </tr>\n",
       "    <tr>\n",
       "      <th>604</th>\n",
       "      <td>9/2/20</td>\n",
       "      <td>26056416</td>\n",
       "      <td>2020-09-02</td>\n",
       "    </tr>\n",
       "    <tr>\n",
       "      <th>605</th>\n",
       "      <td>9/2/21</td>\n",
       "      <td>219238454</td>\n",
       "      <td>2021-09-02</td>\n",
       "    </tr>\n",
       "    <tr>\n",
       "      <th>606</th>\n",
       "      <td>9/20/20</td>\n",
       "      <td>31086923</td>\n",
       "      <td>2020-09-20</td>\n",
       "    </tr>\n",
       "    <tr>\n",
       "      <th>607</th>\n",
       "      <td>9/20/21</td>\n",
       "      <td>229090633</td>\n",
       "      <td>2021-09-20</td>\n",
       "    </tr>\n",
       "    <tr>\n",
       "      <th>608</th>\n",
       "      <td>9/21/20</td>\n",
       "      <td>31361668</td>\n",
       "      <td>2020-09-21</td>\n",
       "    </tr>\n",
       "    <tr>\n",
       "      <th>609</th>\n",
       "      <td>9/21/21</td>\n",
       "      <td>229559016</td>\n",
       "      <td>2021-09-21</td>\n",
       "    </tr>\n",
       "    <tr>\n",
       "      <th>610</th>\n",
       "      <td>9/22/20</td>\n",
       "      <td>31646410</td>\n",
       "      <td>2020-09-22</td>\n",
       "    </tr>\n",
       "    <tr>\n",
       "      <th>611</th>\n",
       "      <td>9/22/21</td>\n",
       "      <td>230096150</td>\n",
       "      <td>2021-09-22</td>\n",
       "    </tr>\n",
       "    <tr>\n",
       "      <th>612</th>\n",
       "      <td>9/23/20</td>\n",
       "      <td>31922488</td>\n",
       "      <td>2020-09-23</td>\n",
       "    </tr>\n",
       "    <tr>\n",
       "      <th>613</th>\n",
       "      <td>9/23/21</td>\n",
       "      <td>230606918</td>\n",
       "      <td>2021-09-23</td>\n",
       "    </tr>\n",
       "    <tr>\n",
       "      <th>614</th>\n",
       "      <td>9/24/20</td>\n",
       "      <td>32276011</td>\n",
       "      <td>2020-09-24</td>\n",
       "    </tr>\n",
       "    <tr>\n",
       "      <th>615</th>\n",
       "      <td>9/24/21</td>\n",
       "      <td>231154714</td>\n",
       "      <td>2021-09-24</td>\n",
       "    </tr>\n",
       "    <tr>\n",
       "      <th>616</th>\n",
       "      <td>9/25/20</td>\n",
       "      <td>32607077</td>\n",
       "      <td>2020-09-25</td>\n",
       "    </tr>\n",
       "    <tr>\n",
       "      <th>617</th>\n",
       "      <td>9/25/21</td>\n",
       "      <td>231518210</td>\n",
       "      <td>2021-09-25</td>\n",
       "    </tr>\n",
       "    <tr>\n",
       "      <th>618</th>\n",
       "      <td>9/26/20</td>\n",
       "      <td>32896010</td>\n",
       "      <td>2020-09-26</td>\n",
       "    </tr>\n",
       "    <tr>\n",
       "      <th>619</th>\n",
       "      <td>9/26/21</td>\n",
       "      <td>231849201</td>\n",
       "      <td>2021-09-26</td>\n",
       "    </tr>\n",
       "    <tr>\n",
       "      <th>620</th>\n",
       "      <td>9/27/20</td>\n",
       "      <td>33147911</td>\n",
       "      <td>2020-09-27</td>\n",
       "    </tr>\n",
       "    <tr>\n",
       "      <th>621</th>\n",
       "      <td>9/27/21</td>\n",
       "      <td>232337207</td>\n",
       "      <td>2021-09-27</td>\n",
       "    </tr>\n",
       "    <tr>\n",
       "      <th>622</th>\n",
       "      <td>9/28/20</td>\n",
       "      <td>33402277</td>\n",
       "      <td>2020-09-28</td>\n",
       "    </tr>\n",
       "    <tr>\n",
       "      <th>623</th>\n",
       "      <td>9/28/21</td>\n",
       "      <td>232784298</td>\n",
       "      <td>2021-09-28</td>\n",
       "    </tr>\n",
       "    <tr>\n",
       "      <th>624</th>\n",
       "      <td>9/29/20</td>\n",
       "      <td>33685207</td>\n",
       "      <td>2020-09-29</td>\n",
       "    </tr>\n",
       "    <tr>\n",
       "      <th>625</th>\n",
       "      <td>9/29/21</td>\n",
       "      <td>233286558</td>\n",
       "      <td>2021-09-29</td>\n",
       "    </tr>\n",
       "    <tr>\n",
       "      <th>626</th>\n",
       "      <td>9/3/20</td>\n",
       "      <td>26337999</td>\n",
       "      <td>2020-09-03</td>\n",
       "    </tr>\n",
       "    <tr>\n",
       "      <th>627</th>\n",
       "      <td>9/3/21</td>\n",
       "      <td>219955598</td>\n",
       "      <td>2021-09-03</td>\n",
       "    </tr>\n",
       "    <tr>\n",
       "      <th>628</th>\n",
       "      <td>9/30/20</td>\n",
       "      <td>34011272</td>\n",
       "      <td>2020-09-30</td>\n",
       "    </tr>\n",
       "    <tr>\n",
       "      <th>629</th>\n",
       "      <td>9/30/21</td>\n",
       "      <td>233771598</td>\n",
       "      <td>2021-09-30</td>\n",
       "    </tr>\n",
       "    <tr>\n",
       "      <th>630</th>\n",
       "      <td>9/4/20</td>\n",
       "      <td>26652306</td>\n",
       "      <td>2020-09-04</td>\n",
       "    </tr>\n",
       "    <tr>\n",
       "      <th>631</th>\n",
       "      <td>9/4/21</td>\n",
       "      <td>220444440</td>\n",
       "      <td>2021-09-04</td>\n",
       "    </tr>\n",
       "    <tr>\n",
       "      <th>632</th>\n",
       "      <td>9/5/20</td>\n",
       "      <td>26922626</td>\n",
       "      <td>2020-09-05</td>\n",
       "    </tr>\n",
       "    <tr>\n",
       "      <th>633</th>\n",
       "      <td>9/5/21</td>\n",
       "      <td>220871541</td>\n",
       "      <td>2021-09-05</td>\n",
       "    </tr>\n",
       "    <tr>\n",
       "      <th>634</th>\n",
       "      <td>9/6/20</td>\n",
       "      <td>27152912</td>\n",
       "      <td>2020-09-06</td>\n",
       "    </tr>\n",
       "    <tr>\n",
       "      <th>635</th>\n",
       "      <td>9/6/21</td>\n",
       "      <td>221309143</td>\n",
       "      <td>2021-09-06</td>\n",
       "    </tr>\n",
       "    <tr>\n",
       "      <th>636</th>\n",
       "      <td>9/7/20</td>\n",
       "      <td>27371041</td>\n",
       "      <td>2020-09-07</td>\n",
       "    </tr>\n",
       "    <tr>\n",
       "      <th>637</th>\n",
       "      <td>9/7/21</td>\n",
       "      <td>222046094</td>\n",
       "      <td>2021-09-07</td>\n",
       "    </tr>\n",
       "    <tr>\n",
       "      <th>638</th>\n",
       "      <td>9/8/20</td>\n",
       "      <td>27611503</td>\n",
       "      <td>2020-09-08</td>\n",
       "    </tr>\n",
       "    <tr>\n",
       "      <th>639</th>\n",
       "      <td>9/8/21</td>\n",
       "      <td>222676835</td>\n",
       "      <td>2021-09-08</td>\n",
       "    </tr>\n",
       "    <tr>\n",
       "      <th>640</th>\n",
       "      <td>9/9/20</td>\n",
       "      <td>27896907</td>\n",
       "      <td>2020-09-09</td>\n",
       "    </tr>\n",
       "    <tr>\n",
       "      <th>641</th>\n",
       "      <td>9/9/21</td>\n",
       "      <td>223313958</td>\n",
       "      <td>2021-09-09</td>\n",
       "    </tr>\n",
       "  </tbody>\n",
       "</table>\n",
       "</div>"
      ],
      "text/plain": [
       "          ds          y      dates\n",
       "600  9/18/20   30541692 2020-09-18\n",
       "601  9/18/21  228192357 2021-09-18\n",
       "602  9/19/20   30834298 2020-09-19\n",
       "603  9/19/21  228549852 2021-09-19\n",
       "604   9/2/20   26056416 2020-09-02\n",
       "605   9/2/21  219238454 2021-09-02\n",
       "606  9/20/20   31086923 2020-09-20\n",
       "607  9/20/21  229090633 2021-09-20\n",
       "608  9/21/20   31361668 2020-09-21\n",
       "609  9/21/21  229559016 2021-09-21\n",
       "610  9/22/20   31646410 2020-09-22\n",
       "611  9/22/21  230096150 2021-09-22\n",
       "612  9/23/20   31922488 2020-09-23\n",
       "613  9/23/21  230606918 2021-09-23\n",
       "614  9/24/20   32276011 2020-09-24\n",
       "615  9/24/21  231154714 2021-09-24\n",
       "616  9/25/20   32607077 2020-09-25\n",
       "617  9/25/21  231518210 2021-09-25\n",
       "618  9/26/20   32896010 2020-09-26\n",
       "619  9/26/21  231849201 2021-09-26\n",
       "620  9/27/20   33147911 2020-09-27\n",
       "621  9/27/21  232337207 2021-09-27\n",
       "622  9/28/20   33402277 2020-09-28\n",
       "623  9/28/21  232784298 2021-09-28\n",
       "624  9/29/20   33685207 2020-09-29\n",
       "625  9/29/21  233286558 2021-09-29\n",
       "626   9/3/20   26337999 2020-09-03\n",
       "627   9/3/21  219955598 2021-09-03\n",
       "628  9/30/20   34011272 2020-09-30\n",
       "629  9/30/21  233771598 2021-09-30\n",
       "630   9/4/20   26652306 2020-09-04\n",
       "631   9/4/21  220444440 2021-09-04\n",
       "632   9/5/20   26922626 2020-09-05\n",
       "633   9/5/21  220871541 2021-09-05\n",
       "634   9/6/20   27152912 2020-09-06\n",
       "635   9/6/21  221309143 2021-09-06\n",
       "636   9/7/20   27371041 2020-09-07\n",
       "637   9/7/21  222046094 2021-09-07\n",
       "638   9/8/20   27611503 2020-09-08\n",
       "639   9/8/21  222676835 2021-09-08\n",
       "640   9/9/20   27896907 2020-09-09\n",
       "641   9/9/21  223313958 2021-09-09"
      ]
     },
     "execution_count": 87,
     "metadata": {},
     "output_type": "execute_result"
    }
   ],
   "source": [
    "test"
   ]
  },
  {
   "cell_type": "code",
   "execution_count": 89,
   "metadata": {},
   "outputs": [
    {
     "name": "stderr",
     "output_type": "stream",
     "text": [
      "<ipython-input-89-ba1d468fb1ff>:1: SettingWithCopyWarning: \n",
      "A value is trying to be set on a copy of a slice from a DataFrame.\n",
      "Try using .loc[row_indexer,col_indexer] = value instead\n",
      "\n",
      "See the caveats in the documentation: https://pandas.pydata.org/pandas-docs/stable/user_guide/indexing.html#returning-a-view-versus-a-copy\n",
      "  test['ds'] = pd.to_datetime(test['ds'])\n"
     ]
    }
   ],
   "source": [
    "test['ds'] = pd.to_datetime(test['ds'])"
   ]
  },
  {
   "cell_type": "code",
   "execution_count": 92,
   "metadata": {
    "colab": {},
    "colab_type": "code",
    "id": "3Q1JQxxDav3_"
   },
   "outputs": [],
   "source": [
    "# Prediction\n",
    "prediction =  m.predict(test)"
   ]
  },
  {
   "cell_type": "code",
   "execution_count": 93,
   "metadata": {
    "colab": {
     "base_uri": "https://localhost:8080/",
     "height": 865
    },
    "colab_type": "code",
    "id": "daw7A4f7bHqh",
    "outputId": "ee20f9e5-2278-4390-b01f-84e3fc02032a"
   },
   "outputs": [
    {
     "data": {
      "image/png": "[encoded data removed]",
      "text/plain": [
       "<Figure size 720x432 with 1 Axes>"
      ]
     },
     "execution_count": 93,
     "metadata": {},
     "output_type": "execute_result"
    },
    {
     "data": {
      "image/png": "[encoded data removed]",
      "text/plain": [
       "<Figure size 720x432 with 1 Axes>"
      ]
     },
     "metadata": {},
     "output_type": "display_data"
    }
   ],
   "source": [
    "# Plot Prediction\n",
    "m.plot(prediction)"
   ]
  },
  {
   "cell_type": "code",
   "execution_count": 94,
   "metadata": {
    "colab": {
     "base_uri": "https://localhost:8080/",
     "height": 1000
    },
    "colab_type": "code",
    "id": "Mi_bEXhtbK0J",
    "outputId": "15722c1b-86d0-499c-9943-acdfcb812d99"
   },
   "outputs": [
    {
     "data": {
      "image/png": "[encoded data removed]",
      "text/plain": [
       "<Figure size 648x648 with 3 Axes>"
      ]
     },
     "execution_count": 94,
     "metadata": {},
     "output_type": "execute_result"
    },
    {
     "data": {
      "image/png": "[encoded data removed]",
      "text/plain": [
       "<Figure size 648x648 with 3 Axes>"
      ]
     },
     "metadata": {},
     "output_type": "display_data"
    }
   ],
   "source": [
    "m.plot_components(prediction)"
   ]
  },
  {
   "cell_type": "code",
   "execution_count": 50,
   "metadata": {
    "colab": {
     "base_uri": "https://localhost:8080/",
     "height": 363
    },
    "colab_type": "code",
    "id": "2L1tuyzzbmyJ",
    "outputId": "4715260b-15c9-42c6-9a0a-fd2f77b2a7e0"
   },
   "outputs": [
    {
     "data": {
      "text/html": [
       "<div>\n",
       "<style scoped>\n",
       "    .dataframe tbody tr th:only-of-type {\n",
       "        vertical-align: middle;\n",
       "    }\n",
       "\n",
       "    .dataframe tbody tr th {\n",
       "        vertical-align: top;\n",
       "    }\n",
       "\n",
       "    .dataframe thead th {\n",
       "        text-align: right;\n",
       "    }\n",
       "</style>\n",
       "<table border=\"1\" class=\"dataframe\">\n",
       "  <thead>\n",
       "    <tr style=\"text-align: right;\">\n",
       "      <th></th>\n",
       "      <th>ds</th>\n",
       "      <th>y</th>\n",
       "    </tr>\n",
       "  </thead>\n",
       "  <tbody>\n",
       "    <tr>\n",
       "      <th>600</th>\n",
       "      <td>9/18/20</td>\n",
       "      <td>30541692</td>\n",
       "    </tr>\n",
       "    <tr>\n",
       "      <th>601</th>\n",
       "      <td>9/18/21</td>\n",
       "      <td>228192357</td>\n",
       "    </tr>\n",
       "    <tr>\n",
       "      <th>602</th>\n",
       "      <td>9/19/20</td>\n",
       "      <td>30834298</td>\n",
       "    </tr>\n",
       "    <tr>\n",
       "      <th>603</th>\n",
       "      <td>9/19/21</td>\n",
       "      <td>228549852</td>\n",
       "    </tr>\n",
       "    <tr>\n",
       "      <th>604</th>\n",
       "      <td>9/2/20</td>\n",
       "      <td>26056416</td>\n",
       "    </tr>\n",
       "    <tr>\n",
       "      <th>605</th>\n",
       "      <td>9/2/21</td>\n",
       "      <td>219238454</td>\n",
       "    </tr>\n",
       "    <tr>\n",
       "      <th>606</th>\n",
       "      <td>9/20/20</td>\n",
       "      <td>31086923</td>\n",
       "    </tr>\n",
       "    <tr>\n",
       "      <th>607</th>\n",
       "      <td>9/20/21</td>\n",
       "      <td>229090633</td>\n",
       "    </tr>\n",
       "    <tr>\n",
       "      <th>608</th>\n",
       "      <td>9/21/20</td>\n",
       "      <td>31361668</td>\n",
       "    </tr>\n",
       "    <tr>\n",
       "      <th>609</th>\n",
       "      <td>9/21/21</td>\n",
       "      <td>229559016</td>\n",
       "    </tr>\n",
       "    <tr>\n",
       "      <th>610</th>\n",
       "      <td>9/22/20</td>\n",
       "      <td>31646410</td>\n",
       "    </tr>\n",
       "    <tr>\n",
       "      <th>611</th>\n",
       "      <td>9/22/21</td>\n",
       "      <td>230096150</td>\n",
       "    </tr>\n",
       "    <tr>\n",
       "      <th>612</th>\n",
       "      <td>9/23/20</td>\n",
       "      <td>31922488</td>\n",
       "    </tr>\n",
       "    <tr>\n",
       "      <th>613</th>\n",
       "      <td>9/23/21</td>\n",
       "      <td>230606918</td>\n",
       "    </tr>\n",
       "    <tr>\n",
       "      <th>614</th>\n",
       "      <td>9/24/20</td>\n",
       "      <td>32276011</td>\n",
       "    </tr>\n",
       "    <tr>\n",
       "      <th>615</th>\n",
       "      <td>9/24/21</td>\n",
       "      <td>231154714</td>\n",
       "    </tr>\n",
       "    <tr>\n",
       "      <th>616</th>\n",
       "      <td>9/25/20</td>\n",
       "      <td>32607077</td>\n",
       "    </tr>\n",
       "    <tr>\n",
       "      <th>617</th>\n",
       "      <td>9/25/21</td>\n",
       "      <td>231518210</td>\n",
       "    </tr>\n",
       "    <tr>\n",
       "      <th>618</th>\n",
       "      <td>9/26/20</td>\n",
       "      <td>32896010</td>\n",
       "    </tr>\n",
       "    <tr>\n",
       "      <th>619</th>\n",
       "      <td>9/26/21</td>\n",
       "      <td>231849201</td>\n",
       "    </tr>\n",
       "    <tr>\n",
       "      <th>620</th>\n",
       "      <td>9/27/20</td>\n",
       "      <td>33147911</td>\n",
       "    </tr>\n",
       "    <tr>\n",
       "      <th>621</th>\n",
       "      <td>9/27/21</td>\n",
       "      <td>232337207</td>\n",
       "    </tr>\n",
       "    <tr>\n",
       "      <th>622</th>\n",
       "      <td>9/28/20</td>\n",
       "      <td>33402277</td>\n",
       "    </tr>\n",
       "    <tr>\n",
       "      <th>623</th>\n",
       "      <td>9/28/21</td>\n",
       "      <td>232784298</td>\n",
       "    </tr>\n",
       "    <tr>\n",
       "      <th>624</th>\n",
       "      <td>9/29/20</td>\n",
       "      <td>33685207</td>\n",
       "    </tr>\n",
       "    <tr>\n",
       "      <th>625</th>\n",
       "      <td>9/29/21</td>\n",
       "      <td>233286558</td>\n",
       "    </tr>\n",
       "    <tr>\n",
       "      <th>626</th>\n",
       "      <td>9/3/20</td>\n",
       "      <td>26337999</td>\n",
       "    </tr>\n",
       "    <tr>\n",
       "      <th>627</th>\n",
       "      <td>9/3/21</td>\n",
       "      <td>219955598</td>\n",
       "    </tr>\n",
       "    <tr>\n",
       "      <th>628</th>\n",
       "      <td>9/30/20</td>\n",
       "      <td>34011272</td>\n",
       "    </tr>\n",
       "    <tr>\n",
       "      <th>629</th>\n",
       "      <td>9/30/21</td>\n",
       "      <td>233771598</td>\n",
       "    </tr>\n",
       "    <tr>\n",
       "      <th>630</th>\n",
       "      <td>9/4/20</td>\n",
       "      <td>26652306</td>\n",
       "    </tr>\n",
       "    <tr>\n",
       "      <th>631</th>\n",
       "      <td>9/4/21</td>\n",
       "      <td>220444440</td>\n",
       "    </tr>\n",
       "    <tr>\n",
       "      <th>632</th>\n",
       "      <td>9/5/20</td>\n",
       "      <td>26922626</td>\n",
       "    </tr>\n",
       "    <tr>\n",
       "      <th>633</th>\n",
       "      <td>9/5/21</td>\n",
       "      <td>220871541</td>\n",
       "    </tr>\n",
       "    <tr>\n",
       "      <th>634</th>\n",
       "      <td>9/6/20</td>\n",
       "      <td>27152912</td>\n",
       "    </tr>\n",
       "    <tr>\n",
       "      <th>635</th>\n",
       "      <td>9/6/21</td>\n",
       "      <td>221309143</td>\n",
       "    </tr>\n",
       "    <tr>\n",
       "      <th>636</th>\n",
       "      <td>9/7/20</td>\n",
       "      <td>27371041</td>\n",
       "    </tr>\n",
       "    <tr>\n",
       "      <th>637</th>\n",
       "      <td>9/7/21</td>\n",
       "      <td>222046094</td>\n",
       "    </tr>\n",
       "    <tr>\n",
       "      <th>638</th>\n",
       "      <td>9/8/20</td>\n",
       "      <td>27611503</td>\n",
       "    </tr>\n",
       "    <tr>\n",
       "      <th>639</th>\n",
       "      <td>9/8/21</td>\n",
       "      <td>222676835</td>\n",
       "    </tr>\n",
       "    <tr>\n",
       "      <th>640</th>\n",
       "      <td>9/9/20</td>\n",
       "      <td>27896907</td>\n",
       "    </tr>\n",
       "    <tr>\n",
       "      <th>641</th>\n",
       "      <td>9/9/21</td>\n",
       "      <td>223313958</td>\n",
       "    </tr>\n",
       "  </tbody>\n",
       "</table>\n",
       "</div>"
      ],
      "text/plain": [
       "          ds          y\n",
       "600  9/18/20   30541692\n",
       "601  9/18/21  228192357\n",
       "602  9/19/20   30834298\n",
       "603  9/19/21  228549852\n",
       "604   9/2/20   26056416\n",
       "605   9/2/21  219238454\n",
       "606  9/20/20   31086923\n",
       "607  9/20/21  229090633\n",
       "608  9/21/20   31361668\n",
       "609  9/21/21  229559016\n",
       "610  9/22/20   31646410\n",
       "611  9/22/21  230096150\n",
       "612  9/23/20   31922488\n",
       "613  9/23/21  230606918\n",
       "614  9/24/20   32276011\n",
       "615  9/24/21  231154714\n",
       "616  9/25/20   32607077\n",
       "617  9/25/21  231518210\n",
       "618  9/26/20   32896010\n",
       "619  9/26/21  231849201\n",
       "620  9/27/20   33147911\n",
       "621  9/27/21  232337207\n",
       "622  9/28/20   33402277\n",
       "623  9/28/21  232784298\n",
       "624  9/29/20   33685207\n",
       "625  9/29/21  233286558\n",
       "626   9/3/20   26337999\n",
       "627   9/3/21  219955598\n",
       "628  9/30/20   34011272\n",
       "629  9/30/21  233771598\n",
       "630   9/4/20   26652306\n",
       "631   9/4/21  220444440\n",
       "632   9/5/20   26922626\n",
       "633   9/5/21  220871541\n",
       "634   9/6/20   27152912\n",
       "635   9/6/21  221309143\n",
       "636   9/7/20   27371041\n",
       "637   9/7/21  222046094\n",
       "638   9/8/20   27611503\n",
       "639   9/8/21  222676835\n",
       "640   9/9/20   27896907\n",
       "641   9/9/21  223313958"
      ]
     },
     "execution_count": 50,
     "metadata": {},
     "output_type": "execute_result"
    }
   ],
   "source": [
    "test"
   ]
  },
  {
   "cell_type": "code",
   "execution_count": 85,
   "metadata": {
    "colab": {
     "base_uri": "https://localhost:8080/",
     "height": 183
    },
    "colab_type": "code",
    "id": "zYdiNi90bpfm",
    "outputId": "be06b238-109a-4eec-9483-0ac51a935817"
   },
   "outputs": [
    {
     "name": "stderr",
     "output_type": "stream",
     "text": [
      "<ipython-input-85-a3eb9f631ca6>:1: SettingWithCopyWarning: \n",
      "A value is trying to be set on a copy of a slice from a DataFrame.\n",
      "Try using .loc[row_indexer,col_indexer] = value instead\n",
      "\n",
      "See the caveats in the documentation: https://pandas.pydata.org/pandas-docs/stable/user_guide/indexing.html#returning-a-view-versus-a-copy\n",
      "  test['dates'] = pd.to_datetime(test['ds'])\n"
     ]
    }
   ],
   "source": [
    "test['dates'] = pd.to_datetime(test['ds'])"
   ]
  },
  {
   "cell_type": "code",
   "execution_count": 80,
   "metadata": {
    "colab": {
     "base_uri": "https://localhost:8080/",
     "height": 363
    },
    "colab_type": "code",
    "id": "uiUC9xtrb-5u",
    "outputId": "ef1cb7e0-3871-4429-b5b3-d28c8419f9e2"
   },
   "outputs": [
    {
     "data": {
      "text/plain": [
       "dates\n",
       "2020-09-18     30541692\n",
       "2021-09-18    228192357\n",
       "2020-09-19     30834298\n",
       "2021-09-19    228549852\n",
       "2020-09-02     26056416\n",
       "2021-09-02    219238454\n",
       "2020-09-20     31086923\n",
       "2021-09-20    229090633\n",
       "2020-09-21     31361668\n",
       "2021-09-21    229559016\n",
       "2020-09-22     31646410\n",
       "2021-09-22    230096150\n",
       "2020-09-23     31922488\n",
       "2021-09-23    230606918\n",
       "2020-09-24     32276011\n",
       "2021-09-24    231154714\n",
       "2020-09-25     32607077\n",
       "2021-09-25    231518210\n",
       "2020-09-26     32896010\n",
       "2021-09-26    231849201\n",
       "2020-09-27     33147911\n",
       "2021-09-27    232337207\n",
       "2020-09-28     33402277\n",
       "2021-09-28    232784298\n",
       "2020-09-29     33685207\n",
       "2021-09-29    233286558\n",
       "2020-09-03     26337999\n",
       "2021-09-03    219955598\n",
       "2020-09-30     34011272\n",
       "2021-09-30    233771598\n",
       "2020-09-04     26652306\n",
       "2021-09-04    220444440\n",
       "2020-09-05     26922626\n",
       "2021-09-05    220871541\n",
       "2020-09-06     27152912\n",
       "2021-09-06    221309143\n",
       "2020-09-07     27371041\n",
       "2021-09-07    222046094\n",
       "2020-09-08     27611503\n",
       "2021-09-08    222676835\n",
       "2020-09-09     27896907\n",
       "2021-09-09    223313958\n",
       "Name: y, dtype: int64"
      ]
     },
     "execution_count": 80,
     "metadata": {},
     "output_type": "execute_result"
    }
   ],
   "source": [
    "test"
   ]
  },
  {
   "cell_type": "code",
   "execution_count": 53,
   "metadata": {
    "colab": {},
    "colab_type": "code",
    "id": "_MCzV2c9cLcX"
   },
   "outputs": [
    {
     "data": {
      "text/html": [
       "<div>\n",
       "<style scoped>\n",
       "    .dataframe tbody tr th:only-of-type {\n",
       "        vertical-align: middle;\n",
       "    }\n",
       "\n",
       "    .dataframe tbody tr th {\n",
       "        vertical-align: top;\n",
       "    }\n",
       "\n",
       "    .dataframe thead th {\n",
       "        text-align: right;\n",
       "    }\n",
       "</style>\n",
       "<table border=\"1\" class=\"dataframe\">\n",
       "  <thead>\n",
       "    <tr style=\"text-align: right;\">\n",
       "      <th></th>\n",
       "      <th>ds</th>\n",
       "      <th>y</th>\n",
       "    </tr>\n",
       "    <tr>\n",
       "      <th>dates</th>\n",
       "      <th></th>\n",
       "      <th></th>\n",
       "    </tr>\n",
       "  </thead>\n",
       "  <tbody>\n",
       "    <tr>\n",
       "      <th>2020-09-18</th>\n",
       "      <td>9/18/20</td>\n",
       "      <td>30541692</td>\n",
       "    </tr>\n",
       "    <tr>\n",
       "      <th>2021-09-18</th>\n",
       "      <td>9/18/21</td>\n",
       "      <td>228192357</td>\n",
       "    </tr>\n",
       "    <tr>\n",
       "      <th>2020-09-19</th>\n",
       "      <td>9/19/20</td>\n",
       "      <td>30834298</td>\n",
       "    </tr>\n",
       "    <tr>\n",
       "      <th>2021-09-19</th>\n",
       "      <td>9/19/21</td>\n",
       "      <td>228549852</td>\n",
       "    </tr>\n",
       "    <tr>\n",
       "      <th>2020-09-02</th>\n",
       "      <td>9/2/20</td>\n",
       "      <td>26056416</td>\n",
       "    </tr>\n",
       "    <tr>\n",
       "      <th>2021-09-02</th>\n",
       "      <td>9/2/21</td>\n",
       "      <td>219238454</td>\n",
       "    </tr>\n",
       "    <tr>\n",
       "      <th>2020-09-20</th>\n",
       "      <td>9/20/20</td>\n",
       "      <td>31086923</td>\n",
       "    </tr>\n",
       "    <tr>\n",
       "      <th>2021-09-20</th>\n",
       "      <td>9/20/21</td>\n",
       "      <td>229090633</td>\n",
       "    </tr>\n",
       "    <tr>\n",
       "      <th>2020-09-21</th>\n",
       "      <td>9/21/20</td>\n",
       "      <td>31361668</td>\n",
       "    </tr>\n",
       "    <tr>\n",
       "      <th>2021-09-21</th>\n",
       "      <td>9/21/21</td>\n",
       "      <td>229559016</td>\n",
       "    </tr>\n",
       "    <tr>\n",
       "      <th>2020-09-22</th>\n",
       "      <td>9/22/20</td>\n",
       "      <td>31646410</td>\n",
       "    </tr>\n",
       "    <tr>\n",
       "      <th>2021-09-22</th>\n",
       "      <td>9/22/21</td>\n",
       "      <td>230096150</td>\n",
       "    </tr>\n",
       "    <tr>\n",
       "      <th>2020-09-23</th>\n",
       "      <td>9/23/20</td>\n",
       "      <td>31922488</td>\n",
       "    </tr>\n",
       "    <tr>\n",
       "      <th>2021-09-23</th>\n",
       "      <td>9/23/21</td>\n",
       "      <td>230606918</td>\n",
       "    </tr>\n",
       "    <tr>\n",
       "      <th>2020-09-24</th>\n",
       "      <td>9/24/20</td>\n",
       "      <td>32276011</td>\n",
       "    </tr>\n",
       "    <tr>\n",
       "      <th>2021-09-24</th>\n",
       "      <td>9/24/21</td>\n",
       "      <td>231154714</td>\n",
       "    </tr>\n",
       "    <tr>\n",
       "      <th>2020-09-25</th>\n",
       "      <td>9/25/20</td>\n",
       "      <td>32607077</td>\n",
       "    </tr>\n",
       "    <tr>\n",
       "      <th>2021-09-25</th>\n",
       "      <td>9/25/21</td>\n",
       "      <td>231518210</td>\n",
       "    </tr>\n",
       "    <tr>\n",
       "      <th>2020-09-26</th>\n",
       "      <td>9/26/20</td>\n",
       "      <td>32896010</td>\n",
       "    </tr>\n",
       "    <tr>\n",
       "      <th>2021-09-26</th>\n",
       "      <td>9/26/21</td>\n",
       "      <td>231849201</td>\n",
       "    </tr>\n",
       "    <tr>\n",
       "      <th>2020-09-27</th>\n",
       "      <td>9/27/20</td>\n",
       "      <td>33147911</td>\n",
       "    </tr>\n",
       "    <tr>\n",
       "      <th>2021-09-27</th>\n",
       "      <td>9/27/21</td>\n",
       "      <td>232337207</td>\n",
       "    </tr>\n",
       "    <tr>\n",
       "      <th>2020-09-28</th>\n",
       "      <td>9/28/20</td>\n",
       "      <td>33402277</td>\n",
       "    </tr>\n",
       "    <tr>\n",
       "      <th>2021-09-28</th>\n",
       "      <td>9/28/21</td>\n",
       "      <td>232784298</td>\n",
       "    </tr>\n",
       "    <tr>\n",
       "      <th>2020-09-29</th>\n",
       "      <td>9/29/20</td>\n",
       "      <td>33685207</td>\n",
       "    </tr>\n",
       "    <tr>\n",
       "      <th>2021-09-29</th>\n",
       "      <td>9/29/21</td>\n",
       "      <td>233286558</td>\n",
       "    </tr>\n",
       "    <tr>\n",
       "      <th>2020-09-03</th>\n",
       "      <td>9/3/20</td>\n",
       "      <td>26337999</td>\n",
       "    </tr>\n",
       "    <tr>\n",
       "      <th>2021-09-03</th>\n",
       "      <td>9/3/21</td>\n",
       "      <td>219955598</td>\n",
       "    </tr>\n",
       "    <tr>\n",
       "      <th>2020-09-30</th>\n",
       "      <td>9/30/20</td>\n",
       "      <td>34011272</td>\n",
       "    </tr>\n",
       "    <tr>\n",
       "      <th>2021-09-30</th>\n",
       "      <td>9/30/21</td>\n",
       "      <td>233771598</td>\n",
       "    </tr>\n",
       "    <tr>\n",
       "      <th>2020-09-04</th>\n",
       "      <td>9/4/20</td>\n",
       "      <td>26652306</td>\n",
       "    </tr>\n",
       "    <tr>\n",
       "      <th>2021-09-04</th>\n",
       "      <td>9/4/21</td>\n",
       "      <td>220444440</td>\n",
       "    </tr>\n",
       "    <tr>\n",
       "      <th>2020-09-05</th>\n",
       "      <td>9/5/20</td>\n",
       "      <td>26922626</td>\n",
       "    </tr>\n",
       "    <tr>\n",
       "      <th>2021-09-05</th>\n",
       "      <td>9/5/21</td>\n",
       "      <td>220871541</td>\n",
       "    </tr>\n",
       "    <tr>\n",
       "      <th>2020-09-06</th>\n",
       "      <td>9/6/20</td>\n",
       "      <td>27152912</td>\n",
       "    </tr>\n",
       "    <tr>\n",
       "      <th>2021-09-06</th>\n",
       "      <td>9/6/21</td>\n",
       "      <td>221309143</td>\n",
       "    </tr>\n",
       "    <tr>\n",
       "      <th>2020-09-07</th>\n",
       "      <td>9/7/20</td>\n",
       "      <td>27371041</td>\n",
       "    </tr>\n",
       "    <tr>\n",
       "      <th>2021-09-07</th>\n",
       "      <td>9/7/21</td>\n",
       "      <td>222046094</td>\n",
       "    </tr>\n",
       "    <tr>\n",
       "      <th>2020-09-08</th>\n",
       "      <td>9/8/20</td>\n",
       "      <td>27611503</td>\n",
       "    </tr>\n",
       "    <tr>\n",
       "      <th>2021-09-08</th>\n",
       "      <td>9/8/21</td>\n",
       "      <td>222676835</td>\n",
       "    </tr>\n",
       "    <tr>\n",
       "      <th>2020-09-09</th>\n",
       "      <td>9/9/20</td>\n",
       "      <td>27896907</td>\n",
       "    </tr>\n",
       "    <tr>\n",
       "      <th>2021-09-09</th>\n",
       "      <td>9/9/21</td>\n",
       "      <td>223313958</td>\n",
       "    </tr>\n",
       "  </tbody>\n",
       "</table>\n",
       "</div>"
      ],
      "text/plain": [
       "                 ds          y\n",
       "dates                         \n",
       "2020-09-18  9/18/20   30541692\n",
       "2021-09-18  9/18/21  228192357\n",
       "2020-09-19  9/19/20   30834298\n",
       "2021-09-19  9/19/21  228549852\n",
       "2020-09-02   9/2/20   26056416\n",
       "2021-09-02   9/2/21  219238454\n",
       "2020-09-20  9/20/20   31086923\n",
       "2021-09-20  9/20/21  229090633\n",
       "2020-09-21  9/21/20   31361668\n",
       "2021-09-21  9/21/21  229559016\n",
       "2020-09-22  9/22/20   31646410\n",
       "2021-09-22  9/22/21  230096150\n",
       "2020-09-23  9/23/20   31922488\n",
       "2021-09-23  9/23/21  230606918\n",
       "2020-09-24  9/24/20   32276011\n",
       "2021-09-24  9/24/21  231154714\n",
       "2020-09-25  9/25/20   32607077\n",
       "2021-09-25  9/25/21  231518210\n",
       "2020-09-26  9/26/20   32896010\n",
       "2021-09-26  9/26/21  231849201\n",
       "2020-09-27  9/27/20   33147911\n",
       "2021-09-27  9/27/21  232337207\n",
       "2020-09-28  9/28/20   33402277\n",
       "2021-09-28  9/28/21  232784298\n",
       "2020-09-29  9/29/20   33685207\n",
       "2021-09-29  9/29/21  233286558\n",
       "2020-09-03   9/3/20   26337999\n",
       "2021-09-03   9/3/21  219955598\n",
       "2020-09-30  9/30/20   34011272\n",
       "2021-09-30  9/30/21  233771598\n",
       "2020-09-04   9/4/20   26652306\n",
       "2021-09-04   9/4/21  220444440\n",
       "2020-09-05   9/5/20   26922626\n",
       "2021-09-05   9/5/21  220871541\n",
       "2020-09-06   9/6/20   27152912\n",
       "2021-09-06   9/6/21  221309143\n",
       "2020-09-07   9/7/20   27371041\n",
       "2021-09-07   9/7/21  222046094\n",
       "2020-09-08   9/8/20   27611503\n",
       "2021-09-08   9/8/21  222676835\n",
       "2020-09-09   9/9/20   27896907\n",
       "2021-09-09   9/9/21  223313958"
      ]
     },
     "execution_count": 53,
     "metadata": {},
     "output_type": "execute_result"
    }
   ],
   "source": [
    "test = test.set_index(\"dates\")\n",
    "test"
   ]
  },
  {
   "cell_type": "code",
   "execution_count": 54,
   "metadata": {
    "colab": {},
    "colab_type": "code",
    "id": "SysA89kKce-C"
   },
   "outputs": [],
   "source": [
    "test = test['y']"
   ]
  },
  {
   "cell_type": "code",
   "execution_count": 55,
   "metadata": {
    "colab": {},
    "colab_type": "code",
    "id": "6ECTRDEQchjf"
   },
   "outputs": [],
   "source": [
    "import matplotlib.pyplot as plt\n"
   ]
  },
  {
   "cell_type": "code",
   "execution_count": 56,
   "metadata": {
    "colab": {
     "base_uri": "https://localhost:8080/",
     "height": 303
    },
    "colab_type": "code",
    "id": "VkJPiEOidaA6",
    "outputId": "672fc75e-4074-4e4b-9eef-dc70ef4462d5"
   },
   "outputs": [
    {
     "data": {
      "text/plain": [
       "<matplotlib.axes._subplots.AxesSubplot at 0x2507fe25280>"
      ]
     },
     "execution_count": 56,
     "metadata": {},
     "output_type": "execute_result"
    },
    {
     "data": {
      "image/png": "[encoded data removed]",
      "text/plain": [
       "<Figure size 432x288 with 1 Axes>"
      ]
     },
     "metadata": {
      "needs_background": "light"
     },
     "output_type": "display_data"
    }
   ],
   "source": [
    "test.plot()"
   ]
  },
  {
   "cell_type": "code",
   "execution_count": 57,
   "metadata": {
    "colab": {},
    "colab_type": "code",
    "id": "tv8NkzrsezlX"
   },
   "outputs": [],
   "source": [
    "# Find Point/Dates For Change\n",
    "from fbprophet.plot import add_changepoints_to_plot"
   ]
  },
  {
   "cell_type": "code",
   "execution_count": 58,
   "metadata": {
    "colab": {
     "base_uri": "https://localhost:8080/",
     "height": 441
    },
    "colab_type": "code",
    "id": "oKsI1aRvflNf",
    "outputId": "a959ab54-5714-45bf-ca5a-ac56a1ee82e2"
   },
   "outputs": [
    {
     "data": {
      "image/png": "[encoded data removed]",
      "text/plain": [
       "<Figure size 720x432 with 1 Axes>"
      ]
     },
     "metadata": {},
     "output_type": "display_data"
    }
   ],
   "source": [
    "fig = m.plot(prediction)\n",
    "c = add_changepoints_to_plot(fig.gca(),m,prediction)"
   ]
  },
  {
   "cell_type": "code",
   "execution_count": 95,
   "metadata": {
    "colab": {},
    "colab_type": "code",
    "id": "TilmKUzdfk6B"
   },
   "outputs": [
    {
     "name": "stderr",
     "output_type": "stream",
     "text": [
      "INFO:fbprophet:Making 1 forecasts with cutoffs between 2021-09-13 00:00:00 and 2021-09-13 00:00:00\n"
     ]
    },
    {
     "data": {
      "application/vnd.jupyter.widget-view+json": {
       "model_id": "f7e3eec8928841859101a34312ede984",
       "version_major": 2,
       "version_minor": 0
      },
      "text/plain": [
       "HBox(children=(FloatProgress(value=0.0, max=1.0), HTML(value='')))"
      ]
     },
     "metadata": {},
     "output_type": "display_data"
    },
    {
     "name": "stdout",
     "output_type": "stream",
     "text": [
      "\n"
     ]
    }
   ],
   "source": [
    "from fbprophet.diagnostics import cross_validation\n",
    "df_cv = cross_validation(m, initial='600 days', period='30.5 days', horizon = '41 days')"
   ]
  },
  {
   "cell_type": "code",
   "execution_count": 60,
   "metadata": {},
   "outputs": [
    {
     "data": {
      "text/html": [
       "<div>\n",
       "<style scoped>\n",
       "    .dataframe tbody tr th:only-of-type {\n",
       "        vertical-align: middle;\n",
       "    }\n",
       "\n",
       "    .dataframe tbody tr th {\n",
       "        vertical-align: top;\n",
       "    }\n",
       "\n",
       "    .dataframe thead th {\n",
       "        text-align: right;\n",
       "    }\n",
       "</style>\n",
       "<table border=\"1\" class=\"dataframe\">\n",
       "  <thead>\n",
       "    <tr style=\"text-align: right;\">\n",
       "      <th></th>\n",
       "      <th>horizon</th>\n",
       "      <th>mse</th>\n",
       "      <th>rmse</th>\n",
       "      <th>mae</th>\n",
       "      <th>mape</th>\n",
       "      <th>mdape</th>\n",
       "      <th>coverage</th>\n",
       "    </tr>\n",
       "  </thead>\n",
       "  <tbody>\n",
       "    <tr>\n",
       "      <th>0</th>\n",
       "      <td>2 days</td>\n",
       "      <td>1.765286e+13</td>\n",
       "      <td>4.201530e+06</td>\n",
       "      <td>4.201279e+06</td>\n",
       "      <td>0.018573</td>\n",
       "      <td>0.018573</td>\n",
       "      <td>0.0</td>\n",
       "    </tr>\n",
       "    <tr>\n",
       "      <th>1</th>\n",
       "      <td>3 days</td>\n",
       "      <td>1.834451e+13</td>\n",
       "      <td>4.283049e+06</td>\n",
       "      <td>4.282901e+06</td>\n",
       "      <td>0.018886</td>\n",
       "      <td>0.018886</td>\n",
       "      <td>0.0</td>\n",
       "    </tr>\n",
       "    <tr>\n",
       "      <th>2</th>\n",
       "      <td>4 days</td>\n",
       "      <td>1.847558e+13</td>\n",
       "      <td>4.298323e+06</td>\n",
       "      <td>4.298275e+06</td>\n",
       "      <td>0.018905</td>\n",
       "      <td>0.018905</td>\n",
       "      <td>0.0</td>\n",
       "    </tr>\n",
       "    <tr>\n",
       "      <th>3</th>\n",
       "      <td>18 days</td>\n",
       "      <td>1.703413e+13</td>\n",
       "      <td>4.127242e+06</td>\n",
       "      <td>4.124385e+06</td>\n",
       "      <td>0.017869</td>\n",
       "      <td>0.017869</td>\n",
       "      <td>0.0</td>\n",
       "    </tr>\n",
       "    <tr>\n",
       "      <th>4</th>\n",
       "      <td>19 days</td>\n",
       "      <td>1.546400e+13</td>\n",
       "      <td>3.932430e+06</td>\n",
       "      <td>3.932240e+06</td>\n",
       "      <td>0.016770</td>\n",
       "      <td>0.016770</td>\n",
       "      <td>0.0</td>\n",
       "    </tr>\n",
       "  </tbody>\n",
       "</table>\n",
       "</div>"
      ],
      "text/plain": [
       "  horizon           mse          rmse           mae      mape     mdape  \\\n",
       "0  2 days  1.765286e+13  4.201530e+06  4.201279e+06  0.018573  0.018573   \n",
       "1  3 days  1.834451e+13  4.283049e+06  4.282901e+06  0.018886  0.018886   \n",
       "2  4 days  1.847558e+13  4.298323e+06  4.298275e+06  0.018905  0.018905   \n",
       "3 18 days  1.703413e+13  4.127242e+06  4.124385e+06  0.017869  0.017869   \n",
       "4 19 days  1.546400e+13  3.932430e+06  3.932240e+06  0.016770  0.016770   \n",
       "\n",
       "   coverage  \n",
       "0       0.0  \n",
       "1       0.0  \n",
       "2       0.0  \n",
       "3       0.0  \n",
       "4       0.0  "
      ]
     },
     "execution_count": 60,
     "metadata": {},
     "output_type": "execute_result"
    }
   ],
   "source": [
    "from fbprophet.diagnostics import performance_metrics\n",
    "df_p = performance_metrics(df_cv)\n",
    "df_p.head()"
   ]
  },
  {
   "cell_type": "code",
   "execution_count": 96,
   "metadata": {},
   "outputs": [
    {
     "data": {
      "image/png": "[encoded data removed]",
      "text/plain": [
       "<Figure size 720x432 with 1 Axes>"
      ]
     },
     "metadata": {},
     "output_type": "display_data"
    }
   ],
   "source": [
    "from fbprophet.plot import plot_cross_validation_metric\n",
    "fig = plot_cross_validation_metric(df_cv, metric='mape')\n"
   ]
  },
  {
   "cell_type": "code",
   "execution_count": 64,
   "metadata": {},
   "outputs": [
    {
     "data": {
      "text/plain": [
       "dates\n",
       "2020-09-18     30541692\n",
       "2021-09-18    228192357\n",
       "2020-09-19     30834298\n",
       "2021-09-19    228549852\n",
       "2020-09-02     26056416\n",
       "2021-09-02    219238454\n",
       "2020-09-20     31086923\n",
       "2021-09-20    229090633\n",
       "2020-09-21     31361668\n",
       "2021-09-21    229559016\n",
       "2020-09-22     31646410\n",
       "2021-09-22    230096150\n",
       "2020-09-23     31922488\n",
       "2021-09-23    230606918\n",
       "2020-09-24     32276011\n",
       "2021-09-24    231154714\n",
       "2020-09-25     32607077\n",
       "2021-09-25    231518210\n",
       "2020-09-26     32896010\n",
       "2021-09-26    231849201\n",
       "2020-09-27     33147911\n",
       "2021-09-27    232337207\n",
       "2020-09-28     33402277\n",
       "2021-09-28    232784298\n",
       "2020-09-29     33685207\n",
       "2021-09-29    233286558\n",
       "2020-09-03     26337999\n",
       "2021-09-03    219955598\n",
       "2020-09-30     34011272\n",
       "2021-09-30    233771598\n",
       "2020-09-04     26652306\n",
       "2021-09-04    220444440\n",
       "2020-09-05     26922626\n",
       "2021-09-05    220871541\n",
       "2020-09-06     27152912\n",
       "2021-09-06    221309143\n",
       "2020-09-07     27371041\n",
       "2021-09-07    222046094\n",
       "2020-09-08     27611503\n",
       "2021-09-08    222676835\n",
       "2020-09-09     27896907\n",
       "2021-09-09    223313958\n",
       "Name: y, dtype: int64"
      ]
     },
     "execution_count": 64,
     "metadata": {},
     "output_type": "execute_result"
    }
   ],
   "source": [
    "test"
   ]
  }
 ],
 "metadata": {
  "colab": {
   "collapsed_sections": [],
   "name": "Copy of Predicting Coronavirus Outbreak and Recovering Rate with Prophet.ipynb",
   "provenance": []
  },
  "kernelspec": {
   "display_name": "Python 3",
   "language": "python",
   "name": "python3"
  },
  "language_info": {
   "codemirror_mode": {
    "name": "ipython",
    "version": 3
   },
   "file_extension": ".py",
   "mimetype": "text/x-python",
   "name": "python",
   "nbconvert_exporter": "python",
   "pygments_lexer": "ipython3",
   "version": "3.8.3"
  }
 },
 "nbformat": 4,
 "nbformat_minor": 1
}
